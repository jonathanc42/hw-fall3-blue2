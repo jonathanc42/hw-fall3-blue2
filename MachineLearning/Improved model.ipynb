{
 "cells": [
  {
   "cell_type": "markdown",
   "metadata": {},
   "source": [
    "# Import needed packages"
   ]
  },
  {
   "cell_type": "code",
   "execution_count": 1,
   "metadata": {
    "ExecuteTime": {
     "end_time": "2018-12-25T16:48:39.946356Z",
     "start_time": "2018-12-25T16:48:32.482688Z"
    },
    "run_control": {
     "marked": false
    }
   },
   "outputs": [],
   "source": [
    "import pandas as pd\n",
    "import numpy as np\n",
    "from sklearn.neighbors.kde import KernelDensity\n",
    "from sklearn.model_selection import cross_validate, GridSearchCV, cross_val_score, train_test_split, StratifiedShuffleSplit\n",
    "from sklearn.metrics import mean_absolute_error as mae\n",
    "from sklearn.preprocessing import StandardScaler,Normalizer, OneHotEncoder, CategoricalEncoder\n",
    "from sklearn import svm\n",
    "from xgboost import XGBRegressor\n",
    "import matplotlib.pyplot as plt\n",
    "%matplotlib inline"
   ]
  },
  {
   "cell_type": "markdown",
   "metadata": {
    "ExecuteTime": {
     "end_time": "2018-11-06T23:38:56.656812Z",
     "start_time": "2018-11-06T23:38:56.653389Z"
    }
   },
   "source": [
    "# Data Preparation "
   ]
  },
  {
   "cell_type": "markdown",
   "metadata": {},
   "source": [
    "## Stratify train test split"
   ]
  },
  {
   "cell_type": "code",
   "execution_count": 2,
   "metadata": {
    "ExecuteTime": {
     "end_time": "2018-12-25T17:12:22.017778Z",
     "start_time": "2018-12-25T17:12:21.871171Z"
    }
   },
   "outputs": [],
   "source": [
    "# read in and prepare X_train, y_train and X_test data\n",
    "train=pd.read_csv('MLProjectData.csv')\n",
    "X_target=pd.read_csv('testData.csv',index_col=0) # test data has index needed to remove"
   ]
  },
  {
   "cell_type": "code",
   "execution_count": 3,
   "metadata": {
    "ExecuteTime": {
     "end_time": "2018-12-25T17:12:22.596504Z",
     "start_time": "2018-12-25T17:12:22.566609Z"
    }
   },
   "outputs": [],
   "source": [
    "# Stratify the training test based on category variable ['cat1','cat2']\n",
    "\n",
    "split = StratifiedShuffleSplit(n_splits=1, test_size=0.2, random_state=42)\n",
    "\n",
    "for train_index, test_index in split.split(train, train[['cat1','cat2']]):\n",
    "    strat_train_set = train.loc[train_index]\n",
    "    strat_test_set = train.loc[test_index]"
   ]
  },
  {
   "cell_type": "code",
   "execution_count": 4,
   "metadata": {
    "ExecuteTime": {
     "end_time": "2018-12-25T17:12:23.818720Z",
     "start_time": "2018-12-25T17:12:23.593134Z"
    },
    "scrolled": false
   },
   "outputs": [
    {
     "data": {
      "text/plain": [
       "array([<matplotlib.axes._subplots.AxesSubplot object at 0x00000216B18FB7F0>,\n",
       "       <matplotlib.axes._subplots.AxesSubplot object at 0x00000216B1E1BC50>],\n",
       "      dtype=object)"
      ]
     },
     "execution_count": 4,
     "metadata": {},
     "output_type": "execute_result"
    },
    {
     "data": {
      "image/png": "[encoded data removed]",
      "text/plain": [
       "<Figure size 432x288 with 2 Axes>"
      ]
     },
     "metadata": {},
     "output_type": "display_data"
    }
   ],
   "source": [
    "strat_train_set[['cat1','cat2']].apply(pd.value_counts).plot(kind='bar', subplots=True)"
   ]
  },
  {
   "cell_type": "code",
   "execution_count": 5,
   "metadata": {
    "ExecuteTime": {
     "end_time": "2018-12-25T17:12:24.852955Z",
     "start_time": "2018-12-25T17:12:24.662258Z"
    }
   },
   "outputs": [
    {
     "data": {
      "text/plain": [
       "array([<matplotlib.axes._subplots.AxesSubplot object at 0x00000216B1E4EC88>,\n",
       "       <matplotlib.axes._subplots.AxesSubplot object at 0x00000216B1F8E390>],\n",
       "      dtype=object)"
      ]
     },
     "execution_count": 5,
     "metadata": {},
     "output_type": "execute_result"
    },
    {
     "data": {
      "image/png": "[encoded data removed]",
      "text/plain": [
       "<Figure size 432x288 with 2 Axes>"
      ]
     },
     "metadata": {},
     "output_type": "display_data"
    }
   ],
   "source": [
    "strat_test_set[['cat1','cat2']].apply(pd.value_counts).plot(kind='bar', subplots=True)"
   ]
  },
  {
   "cell_type": "code",
   "execution_count": 6,
   "metadata": {
    "ExecuteTime": {
     "end_time": "2018-12-25T17:12:25.803654Z",
     "start_time": "2018-12-25T17:12:25.623138Z"
    },
    "scrolled": false
   },
   "outputs": [
    {
     "data": {
      "text/plain": [
       "array([<matplotlib.axes._subplots.AxesSubplot object at 0x00000216B20684E0>,\n",
       "       <matplotlib.axes._subplots.AxesSubplot object at 0x00000216B20A5CF8>],\n",
       "      dtype=object)"
      ]
     },
     "execution_count": 6,
     "metadata": {},
     "output_type": "execute_result"
    },
    {
     "data": {
      "image/png": "[encoded data removed]",
      "text/plain": [
       "<Figure size 432x288 with 2 Axes>"
      ]
     },
     "metadata": {},
     "output_type": "display_data"
    }
   ],
   "source": [
    "X_target[['cat1','cat2']].apply(pd.value_counts).plot(kind='bar', subplots=True)"
   ]
  },
  {
   "cell_type": "code",
   "execution_count": 8,
   "metadata": {
    "ExecuteTime": {
     "end_time": "2018-12-25T17:12:40.291046Z",
     "start_time": "2018-12-25T17:12:40.287056Z"
    }
   },
   "outputs": [],
   "source": [
    "# X_train, X_test, y_train, y_test = train_test_split(training.drop('target', axis=1), training['target'],\n",
    "#                                                     test_size=0.2, random_state=42,\n",
    "#                                                    #stratify=['cat1','cat2']\n",
    "#                                                    )"
   ]
  },
  {
   "cell_type": "markdown",
   "metadata": {},
   "source": [
    "## check data for na value"
   ]
  },
  {
   "cell_type": "code",
   "execution_count": 9,
   "metadata": {
    "ExecuteTime": {
     "end_time": "2018-12-25T17:12:41.490864Z",
     "start_time": "2018-12-25T17:12:41.478870Z"
    }
   },
   "outputs": [
    {
     "data": {
      "text/plain": [
       "0"
      ]
     },
     "execution_count": 9,
     "metadata": {},
     "output_type": "execute_result"
    }
   ],
   "source": [
    "train.isna().any().sum()\n",
    "# train.info()"
   ]
  },
  {
   "cell_type": "code",
   "execution_count": 10,
   "metadata": {
    "ExecuteTime": {
     "end_time": "2018-12-25T17:12:42.167272Z",
     "start_time": "2018-12-25T17:12:42.162285Z"
    }
   },
   "outputs": [
    {
     "data": {
      "text/plain": [
       "0"
      ]
     },
     "execution_count": 10,
     "metadata": {},
     "output_type": "execute_result"
    }
   ],
   "source": [
    "X_target.isna().any().sum()\n",
    "# train.info()"
   ]
  },
  {
   "cell_type": "code",
   "execution_count": 11,
   "metadata": {
    "ExecuteTime": {
     "end_time": "2018-12-25T17:12:42.965628Z",
     "start_time": "2018-12-25T17:12:42.963633Z"
    }
   },
   "outputs": [],
   "source": [
    "# train.dropna(subset=['na feature'])\n",
    "# train.drop('na feature', axis=1)\n",
    "# train.['na feature'].fillna(median, inplace=True)"
   ]
  },
  {
   "cell_type": "markdown",
   "metadata": {},
   "source": [
    "## Handeling Text and Categorical features"
   ]
  },
  {
   "cell_type": "code",
   "execution_count": 12,
   "metadata": {
    "ExecuteTime": {
     "end_time": "2018-12-25T17:12:44.195600Z",
     "start_time": "2018-12-25T17:12:44.192608Z"
    }
   },
   "outputs": [],
   "source": [
    "# # label to split the training and testing\n",
    "# X_train['train']=True\n",
    "# X_test['train']=False\n",
    "# # get_dummies to encode categorical variables\n",
    "# temp=pd.get_dummies(X_train.append(X_test,sort=False))\n",
    "# X_train=temp[temp['train']==True].drop('train',axis=1)\n",
    "# X_test=temp[temp['train']==False].drop('train',axis=1)"
   ]
  },
  {
   "cell_type": "code",
   "execution_count": 13,
   "metadata": {
    "ExecuteTime": {
     "end_time": "2018-12-25T17:12:50.570617Z",
     "start_time": "2018-12-25T17:12:50.566628Z"
    }
   },
   "outputs": [],
   "source": [
    "train_cat_encoded, train_categories = train['cat1'].factorize()"
   ]
  },
  {
   "cell_type": "code",
   "execution_count": 14,
   "metadata": {
    "ExecuteTime": {
     "end_time": "2018-12-25T17:12:51.658460Z",
     "start_time": "2018-12-25T17:12:51.654471Z"
    }
   },
   "outputs": [
    {
     "data": {
      "text/plain": [
       "array([0, 1, 0, ..., 2, 4, 1], dtype=int64)"
      ]
     },
     "execution_count": 14,
     "metadata": {},
     "output_type": "execute_result"
    }
   ],
   "source": [
    "train_cat_encoded"
   ]
  },
  {
   "cell_type": "code",
   "execution_count": 15,
   "metadata": {
    "ExecuteTime": {
     "end_time": "2018-12-25T17:12:52.409061Z",
     "start_time": "2018-12-25T17:12:52.405074Z"
    }
   },
   "outputs": [
    {
     "data": {
      "text/plain": [
       "Index(['E', 'A', 'C', 'D', 'B'], dtype='object')"
      ]
     },
     "execution_count": 15,
     "metadata": {},
     "output_type": "execute_result"
    }
   ],
   "source": [
    "train_categories"
   ]
  },
  {
   "cell_type": "code",
   "execution_count": 16,
   "metadata": {
    "ExecuteTime": {
     "end_time": "2018-12-25T17:12:52.961913Z",
     "start_time": "2018-12-25T17:12:52.958922Z"
    }
   },
   "outputs": [],
   "source": [
    "encoder = OneHotEncoder()"
   ]
  },
  {
   "cell_type": "code",
   "execution_count": 17,
   "metadata": {
    "ExecuteTime": {
     "end_time": "2018-12-25T17:12:53.502639Z",
     "start_time": "2018-12-25T17:12:53.483689Z"
    }
   },
   "outputs": [
    {
     "name": "stderr",
     "output_type": "stream",
     "text": [
      "C:\\ProgramData\\Anaconda3\\lib\\site-packages\\sklearn\\preprocessing\\_encoders.py:368: FutureWarning: The handling of integer data will change in version 0.22. Currently, the categories are determined based on the range [0, max(values)], while in the future they will be determined based on the unique values.\n",
      "If you want the future behaviour and silence this warning, you can specify \"categories='auto'\".\n",
      "In case you used a LabelEncoder before this OneHotEncoder to convert the categories to integers, then you can now use the OneHotEncoder directly.\n",
      "  warnings.warn(msg, FutureWarning)\n"
     ]
    }
   ],
   "source": [
    "train_cat_1hot = encoder.fit_transform(train_cat_encoded.reshape(-1,1))"
   ]
  },
  {
   "cell_type": "code",
   "execution_count": 18,
   "metadata": {
    "ExecuteTime": {
     "end_time": "2018-12-25T17:13:19.368506Z",
     "start_time": "2018-12-25T17:13:19.364517Z"
    }
   },
   "outputs": [
    {
     "data": {
      "text/plain": [
       "<6350x5 sparse matrix of type '<class 'numpy.float64'>'\n",
       "\twith 6350 stored elements in Compressed Sparse Row format>"
      ]
     },
     "execution_count": 18,
     "metadata": {},
     "output_type": "execute_result"
    }
   ],
   "source": [
    "train_cat_1hot"
   ]
  },
  {
   "cell_type": "code",
   "execution_count": 19,
   "metadata": {
    "ExecuteTime": {
     "end_time": "2018-12-25T17:13:20.166732Z",
     "start_time": "2018-12-25T17:13:20.162716Z"
    }
   },
   "outputs": [
    {
     "data": {
      "text/plain": [
       "scipy.sparse.csr.csr_matrix"
      ]
     },
     "execution_count": 19,
     "metadata": {},
     "output_type": "execute_result"
    }
   ],
   "source": [
    "type(train_cat_1hot)"
   ]
  },
  {
   "cell_type": "code",
   "execution_count": 20,
   "metadata": {
    "ExecuteTime": {
     "end_time": "2018-12-25T17:13:21.045828Z",
     "start_time": "2018-12-25T17:13:21.041133Z"
    },
    "scrolled": true
   },
   "outputs": [
    {
     "data": {
      "text/plain": [
       "array([[1., 0., 0., 0., 0.],\n",
       "       [0., 1., 0., 0., 0.],\n",
       "       [1., 0., 0., 0., 0.],\n",
       "       ...,\n",
       "       [0., 0., 1., 0., 0.],\n",
       "       [0., 0., 0., 0., 1.],\n",
       "       [0., 1., 0., 0., 0.]])"
      ]
     },
     "execution_count": 20,
     "metadata": {},
     "output_type": "execute_result"
    }
   ],
   "source": [
    "train_cat_1hot.toarray()"
   ]
  },
  {
   "cell_type": "code",
   "execution_count": 24,
   "metadata": {
    "ExecuteTime": {
     "end_time": "2018-12-25T17:14:37.227548Z",
     "start_time": "2018-12-25T17:14:37.223560Z"
    }
   },
   "outputs": [],
   "source": [
    "encoder1 = OneHotEncoder()"
   ]
  },
  {
   "cell_type": "code",
   "execution_count": 31,
   "metadata": {
    "ExecuteTime": {
     "end_time": "2018-12-25T17:16:42.543403Z",
     "start_time": "2018-12-25T17:16:42.536418Z"
    }
   },
   "outputs": [],
   "source": [
    "cat2_1hot = encoder1.fit_transform(train[['cat2']])"
   ]
  },
  {
   "cell_type": "code",
   "execution_count": 32,
   "metadata": {
    "ExecuteTime": {
     "end_time": "2018-12-25T17:16:47.715475Z",
     "start_time": "2018-12-25T17:16:47.711486Z"
    }
   },
   "outputs": [
    {
     "data": {
      "text/plain": [
       "<6350x12 sparse matrix of type '<class 'numpy.float64'>'\n",
       "\twith 6350 stored elements in Compressed Sparse Row format>"
      ]
     },
     "execution_count": 32,
     "metadata": {},
     "output_type": "execute_result"
    }
   ],
   "source": [
    "cat2_1hot"
   ]
  },
  {
   "cell_type": "code",
   "execution_count": 47,
   "metadata": {
    "ExecuteTime": {
     "end_time": "2018-12-25T17:19:28.983804Z",
     "start_time": "2018-12-25T17:19:28.979796Z"
    }
   },
   "outputs": [
    {
     "data": {
      "text/plain": [
       "array([[0., 0., 0., 1., 0., 0., 0., 0., 0., 0., 0., 0.],\n",
       "       [0., 0., 0., 0., 0., 0., 1., 0., 0., 0., 0., 0.],\n",
       "       [0., 0., 0., 0., 0., 0., 0., 0., 0., 0., 1., 0.],\n",
       "       [0., 0., 0., 0., 0., 0., 0., 0., 0., 0., 0., 1.],\n",
       "       [0., 1., 0., 0., 0., 0., 0., 0., 0., 0., 0., 0.]])"
      ]
     },
     "execution_count": 47,
     "metadata": {},
     "output_type": "execute_result"
    }
   ],
   "source": [
    "cat2_1hot.toarray()[:5]"
   ]
  },
  {
   "cell_type": "code",
   "execution_count": 34,
   "metadata": {
    "ExecuteTime": {
     "end_time": "2018-12-25T17:17:27.086124Z",
     "start_time": "2018-12-25T17:17:27.082135Z"
    }
   },
   "outputs": [
    {
     "data": {
      "text/plain": [
       "[array(['A', 'B', 'C', 'D', 'E', 'F', 'G', 'H', 'I', 'J', 'K', 'L'],\n",
       "       dtype=object)]"
      ]
     },
     "execution_count": 34,
     "metadata": {},
     "output_type": "execute_result"
    }
   ],
   "source": [
    "encoder1.categories_"
   ]
  },
  {
   "cell_type": "code",
   "execution_count": 42,
   "metadata": {
    "ExecuteTime": {
     "end_time": "2018-12-25T17:18:51.898550Z",
     "start_time": "2018-12-25T17:18:51.893563Z"
    }
   },
   "outputs": [
    {
     "data": {
      "text/plain": [
       "0    D\n",
       "1    G\n",
       "2    K\n",
       "3    L\n",
       "4    B\n",
       "Name: cat2, dtype: object"
      ]
     },
     "execution_count": 42,
     "metadata": {},
     "output_type": "execute_result"
    }
   ],
   "source": [
    "train['cat2'].head()"
   ]
  },
  {
   "cell_type": "markdown",
   "metadata": {},
   "source": [
    "### CategoricalEncoder"
   ]
  },
  {
   "cell_type": "code",
   "execution_count": 23,
   "metadata": {
    "ExecuteTime": {
     "end_time": "2018-12-25T17:13:27.573091Z",
     "start_time": "2018-12-25T17:13:27.564089Z"
    }
   },
   "outputs": [
    {
     "ename": "RuntimeError",
     "evalue": "CategoricalEncoder briefly existed in 0.20dev. Its functionality has been rolled into the OneHotEncoder and OrdinalEncoder. This stub will be removed in version 0.21.",
     "output_type": "error",
     "traceback": [
      "\u001b[1;31m---------------------------------------------------------------------------\u001b[0m",
      "\u001b[1;31mRuntimeError\u001b[0m                              Traceback (most recent call last)",
      "\u001b[1;32m<ipython-input-23-f11639206a45>\u001b[0m in \u001b[0;36m<module>\u001b[1;34m()\u001b[0m\n\u001b[1;32m----> 1\u001b[1;33m \u001b[0mcat_encoder\u001b[0m \u001b[1;33m=\u001b[0m \u001b[0mCategoricalEncoder\u001b[0m\u001b[1;33m(\u001b[0m\u001b[1;33m)\u001b[0m\u001b[1;33m\u001b[0m\u001b[0m\n\u001b[0m",
      "\u001b[1;32mC:\\ProgramData\\Anaconda3\\lib\\site-packages\\sklearn\\preprocessing\\data.py\u001b[0m in \u001b[0;36m__init__\u001b[1;34m(*args, **kwargs)\u001b[0m\n\u001b[0;32m   2934\u001b[0m     \u001b[1;32mdef\u001b[0m \u001b[0m__init__\u001b[0m\u001b[1;33m(\u001b[0m\u001b[1;33m*\u001b[0m\u001b[0margs\u001b[0m\u001b[1;33m,\u001b[0m \u001b[1;33m**\u001b[0m\u001b[0mkwargs\u001b[0m\u001b[1;33m)\u001b[0m\u001b[1;33m:\u001b[0m\u001b[1;33m\u001b[0m\u001b[0m\n\u001b[0;32m   2935\u001b[0m         raise RuntimeError(\n\u001b[1;32m-> 2936\u001b[1;33m             \u001b[1;34m\"CategoricalEncoder briefly existed in 0.20dev. Its functionality \"\u001b[0m\u001b[1;33m\u001b[0m\u001b[0m\n\u001b[0m\u001b[0;32m   2937\u001b[0m             \u001b[1;34m\"has been rolled into the OneHotEncoder and OrdinalEncoder. \"\u001b[0m\u001b[1;33m\u001b[0m\u001b[0m\n\u001b[0;32m   2938\u001b[0m             \"This stub will be removed in version 0.21.\")\n",
      "\u001b[1;31mRuntimeError\u001b[0m: CategoricalEncoder briefly existed in 0.20dev. Its functionality has been rolled into the OneHotEncoder and OrdinalEncoder. This stub will be removed in version 0.21."
     ]
    }
   ],
   "source": [
    "cat_encoder = CategoricalEncoder()"
   ]
  },
  {
   "cell_type": "code",
   "execution_count": null,
   "metadata": {},
   "outputs": [],
   "source": []
  },
  {
   "cell_type": "code",
   "execution_count": null,
   "metadata": {},
   "outputs": [],
   "source": []
  },
  {
   "cell_type": "code",
   "execution_count": null,
   "metadata": {},
   "outputs": [],
   "source": []
  },
  {
   "cell_type": "code",
   "execution_count": null,
   "metadata": {},
   "outputs": [],
   "source": []
  },
  {
   "cell_type": "markdown",
   "metadata": {},
   "source": [
    "## Standardize/Normalize\n",
    "for non tree models such as SVR"
   ]
  },
  {
   "cell_type": "code",
   "execution_count": 5,
   "metadata": {
    "ExecuteTime": {
     "end_time": "2018-11-25T00:11:02.171218Z",
     "start_time": "2018-11-25T00:11:01.957718Z"
    },
    "scrolled": false
   },
   "outputs": [
    {
     "name": "stderr",
     "output_type": "stream",
     "text": [
      "C:\\ProgramData\\Anaconda3\\lib\\site-packages\\sklearn\\preprocessing\\data.py:617: DataConversionWarning: Data with input dtype bool, uint8, int64, float64 were all converted to float64 by StandardScaler.\n",
      "  return self.partial_fit(X, y)\n",
      "C:\\ProgramData\\Anaconda3\\lib\\site-packages\\sklearn\\base.py:462: DataConversionWarning: Data with input dtype bool, uint8, int64, float64 were all converted to float64 by StandardScaler.\n",
      "  return self.fit(X, **fit_params).transform(X)\n"
     ]
    }
   ],
   "source": [
    "std = StandardScaler()\n",
    "X_train_std = std.fit_transform(X_train)\n",
    "\n",
    "norm = Normalizer()\n",
    "X_train_norm = norm.fit_transform(X_train)"
   ]
  },
  {
   "cell_type": "code",
   "execution_count": 29,
   "metadata": {
    "ExecuteTime": {
     "end_time": "2018-11-25T04:26:04.943804Z",
     "start_time": "2018-11-25T04:26:04.940272Z"
    }
   },
   "outputs": [],
   "source": [
    "# normalize test data to output the result\n",
    "X_test_norm = norm.transform(X_test)"
   ]
  },
  {
   "cell_type": "markdown",
   "metadata": {},
   "source": [
    "# Benchmark "
   ]
  },
  {
   "cell_type": "markdown",
   "metadata": {
    "ExecuteTime": {
     "end_time": "2018-11-21T03:09:32.876785Z",
     "start_time": "2018-11-21T03:09:32.853362Z"
    }
   },
   "source": [
    "## median and mean"
   ]
  },
  {
   "cell_type": "code",
   "execution_count": 96,
   "metadata": {
    "ExecuteTime": {
     "end_time": "2018-11-21T16:06:56.114951Z",
     "start_time": "2018-11-21T16:06:56.099423Z"
    }
   },
   "outputs": [
    {
     "data": {
      "text/plain": [
       "count    6350.000000\n",
       "mean       20.035933\n",
       "std         1.419549\n",
       "min         8.479981\n",
       "25%        19.453096\n",
       "50%        20.062500\n",
       "75%        20.680000\n",
       "max        32.849998\n",
       "Name: target, dtype: float64"
      ]
     },
     "execution_count": 96,
     "metadata": {},
     "output_type": "execute_result"
    }
   ],
   "source": [
    "y_train.describe()"
   ]
  },
  {
   "cell_type": "code",
   "execution_count": 117,
   "metadata": {
    "ExecuteTime": {
     "end_time": "2018-11-21T16:35:52.737340Z",
     "start_time": "2018-11-21T16:35:52.730312Z"
    }
   },
   "outputs": [
    {
     "name": "stdout",
     "output_type": "stream",
     "text": [
      "Benchmark\n",
      "Mean:\n",
      "R2: 1.1102230246251565e-16\n",
      "MAE: 0.9567985025831722\n",
      "Median:\n",
      "R2: -0.0003503183503301699\n",
      "MAE: 0.9563565006299212\n"
     ]
    }
   ],
   "source": [
    "y_mean=np.repeat(y_train.mean(), len(y_train))\n",
    "y_median=np.repeat(y_train.median(), len(y_train))\n",
    "print('Benchmark\\nMean:\\nR2:',r2_score(y_train, y_mean)) \n",
    "print('MAE:',mae(y_train, y_mean)) \n",
    "print('Median:\\nR2:',r2_score(y_train, y_median)) \n",
    "print('MAE:',mae(y_train, y_median)) "
   ]
  },
  {
   "cell_type": "markdown",
   "metadata": {},
   "source": [
    "## kernel density"
   ]
  },
  {
   "cell_type": "code",
   "execution_count": 91,
   "metadata": {
    "ExecuteTime": {
     "end_time": "2018-11-21T16:05:15.126868Z",
     "start_time": "2018-11-21T16:05:13.174835Z"
    },
    "scrolled": true
   },
   "outputs": [
    {
     "name": "stdout",
     "output_type": "stream",
     "text": [
      "MAE: 1.4492191158844947\n"
     ]
    }
   ],
   "source": [
    "y_train_array = y_train.values[:,np.newaxis]\n",
    "\n",
    "kde = KernelDensity(kernel='gaussian', bandwidth=0.2).fit(y_train_array)\n",
    "kde.score_samples(y_train_array)\n",
    "\n",
    "print('MAE:',mae(y_train_array,kde.sample(len(y_train_array)))) "
   ]
  },
  {
   "cell_type": "code",
   "execution_count": 94,
   "metadata": {
    "ExecuteTime": {
     "end_time": "2018-11-21T16:06:21.812679Z",
     "start_time": "2018-11-21T16:06:21.551180Z"
    },
    "scrolled": false
   },
   "outputs": [
    {
     "data": {
      "image/png": "[encoded data removed]",
      "text/plain": [
       "<Figure size 432x288 with 1 Axes>"
      ]
     },
     "metadata": {},
     "output_type": "display_data"
    }
   ],
   "source": [
    "# Visualize the target\n",
    "plt.hist(y_train,bins=100,density=0.5);\n",
    "# y_train.quantile(q=0.05)\n",
    "# y_train.quantile(q=0.95)\n",
    "plt.hist(kde.sample(len(y_train_array)),bins=100,density=0.5);"
   ]
  },
  {
   "cell_type": "markdown",
   "metadata": {},
   "source": [
    "# SVR"
   ]
  },
  {
   "cell_type": "markdown",
   "metadata": {},
   "source": [
    "## Grid Search"
   ]
  },
  {
   "cell_type": "code",
   "execution_count": 37,
   "metadata": {
    "ExecuteTime": {
     "end_time": "2018-11-25T20:42:30.514124Z",
     "start_time": "2018-11-25T19:10:21.918173Z"
    }
   },
   "outputs": [
    {
     "name": "stdout",
     "output_type": "stream",
     "text": [
      "Training MAE: 0.9563635396782749\n"
     ]
    }
   ],
   "source": [
    "# Dont run takes 90+ minutes\n",
    "\n",
    "svr_grid = svm.SVR()\n",
    "\n",
    "params_svr = {'C': [0.0001,0.001,0.005,0.1,0.3,0.5,1,3,5], \n",
    "              'gamma': [5,4,3,2,1.5,1,0.9,0.8,0.5],\n",
    "              'kernel': ['rbf']}\n",
    "\n",
    "grid_svr = GridSearchCV(svr_grid, params_svr,cv=10)\n",
    "grid_svr.fit(X_train_norm, y_train)\n",
    "\n",
    "# Print the MAE score\n",
    "# print('Training MAE:', mae(y_train, grid_svr.best_estimator_.predict(X_train_norm)))"
   ]
  },
  {
   "cell_type": "markdown",
   "metadata": {
    "ExecuteTime": {
     "end_time": "2018-11-25T01:10:40.399050Z",
     "start_time": "2018-11-25T01:10:40.393548Z"
    }
   },
   "source": [
    "## Gridsearch results (candidates)\n",
    "\n",
    "SVR(C=1, cache_size=200, coef0=0.0, degree=3, epsilon=0.1, gamma=0.5,\n",
    "kernel='rbf', max_iter=-1, shrinking=True, tol=0.001, verbose=False)\n",
    "  \n",
    "SVR(C=0.1, cache_size=200, coef0=0.0, degree=3, epsilon=0.1, gamma=1,\n",
    "kernel='rbf', max_iter=-1, shrinking=True, tol=0.001, verbose=False)\n",
    "\n",
    "SVR(C=0.001, cache_size=200, coef0=0.0, degree=3, epsilon=0.1, gamma=5,\n",
    "kernel='rbf', max_iter=-1, shrinking=True, tol=0.001, verbose=False)"
   ]
  },
  {
   "cell_type": "markdown",
   "metadata": {},
   "source": [
    "## Cross Validation best model"
   ]
  },
  {
   "cell_type": "markdown",
   "metadata": {},
   "source": [
    "### Standardized Data"
   ]
  },
  {
   "cell_type": "code",
   "execution_count": 6,
   "metadata": {
    "ExecuteTime": {
     "end_time": "2018-11-25T00:12:31.221163Z",
     "start_time": "2018-11-25T00:11:37.177133Z"
    }
   },
   "outputs": [
    {
     "name": "stdout",
     "output_type": "stream",
     "text": [
      "[-0.98771723 -0.93132544 -1.00851058 -0.9137543  -0.89537944 -0.97483196\n",
      " -0.94677773 -0.99193567 -0.9394993  -0.97780779]\n",
      "-0.9567539434416366\n"
     ]
    }
   ],
   "source": [
    "svr_validate = svm.SVR(C=3,degree=3,gamma=0.9,kernel='rbf')\n",
    "\n",
    "scores = cross_val_score(svr_validate, X_train_std, y_train, cv=10, scoring = 'neg_mean_absolute_error')\n",
    "print(scores)\n",
    "print(np.mean(scores))"
   ]
  },
  {
   "cell_type": "markdown",
   "metadata": {},
   "source": [
    "### Normalized Data (works better)"
   ]
  },
  {
   "cell_type": "code",
   "execution_count": 154,
   "metadata": {
    "ExecuteTime": {
     "end_time": "2018-11-21T17:07:19.756462Z",
     "start_time": "2018-11-21T17:06:41.190433Z"
    }
   },
   "outputs": [
    {
     "name": "stdout",
     "output_type": "stream",
     "text": [
      "[-0.9908526  -0.93328811 -1.0075597  -0.91038571 -0.88694411 -0.97235694\n",
      " -0.94409592 -0.99034215 -0.94005804 -0.97752778]\n",
      "-0.9553411052541234\n"
     ]
    }
   ],
   "source": [
    "svr_validate = svm.SVR(C=3,degree=3,gamma=0.9,kernel='rbf')\n",
    "\n",
    "scores = cross_val_score(svr_validate, X_train_norm, y_train, cv=10, scoring = 'neg_mean_absolute_error')\n",
    "print(scores)\n",
    "print(np.mean(scores))"
   ]
  },
  {
   "cell_type": "markdown",
   "metadata": {},
   "source": [
    "### Output result"
   ]
  },
  {
   "cell_type": "code",
   "execution_count": 30,
   "metadata": {
    "ExecuteTime": {
     "end_time": "2018-11-25T04:26:53.075715Z",
     "start_time": "2018-11-25T04:26:53.028217Z"
    }
   },
   "outputs": [],
   "source": [
    "result = svr_final.predict(X_test_norm)"
   ]
  },
  {
   "cell_type": "code",
   "execution_count": 31,
   "metadata": {
    "ExecuteTime": {
     "end_time": "2018-11-25T04:26:58.709964Z",
     "start_time": "2018-11-25T04:26:58.592439Z"
    }
   },
   "outputs": [
    {
     "data": {
      "text/plain": [
       "(array([12., 31., 18.,  2.,  6.,  2.,  2.,  1.,  1.,  2.]),\n",
       " array([20.06090585, 20.06534632, 20.06978679, 20.07422726, 20.07866773,\n",
       "        20.0831082 , 20.08754867, 20.09198914, 20.09642961, 20.10087008,\n",
       "        20.10531055]),\n",
       " <a list of 10 Patch objects>)"
      ]
     },
     "execution_count": 31,
     "metadata": {},
     "output_type": "execute_result"
    },
    {
     "data": {
      "image/png": "[encoded data removed]",
      "text/plain": [
       "<Figure size 432x288 with 1 Axes>"
      ]
     },
     "metadata": {},
     "output_type": "display_data"
    }
   ],
   "source": [
    "plt.hist(result)"
   ]
  },
  {
   "cell_type": "code",
   "execution_count": 32,
   "metadata": {
    "ExecuteTime": {
     "end_time": "2018-11-25T04:27:11.683022Z",
     "start_time": "2018-11-25T04:27:11.679052Z"
    }
   },
   "outputs": [
    {
     "data": {
      "text/plain": [
       "77"
      ]
     },
     "execution_count": 32,
     "metadata": {},
     "output_type": "execute_result"
    }
   ],
   "source": [
    "len(result)"
   ]
  },
  {
   "cell_type": "code",
   "execution_count": 35,
   "metadata": {
    "ExecuteTime": {
     "end_time": "2018-11-25T04:28:41.137527Z",
     "start_time": "2018-11-25T04:28:41.134528Z"
    }
   },
   "outputs": [],
   "source": [
    "result.tofile('result.csv',sep='\\n')"
   ]
  },
  {
   "cell_type": "markdown",
   "metadata": {},
   "source": [
    "## PCA + SVR (unsuccessful try)"
   ]
  },
  {
   "cell_type": "code",
   "execution_count": 150,
   "metadata": {
    "ExecuteTime": {
     "end_time": "2018-11-23T17:47:33.876054Z",
     "start_time": "2018-11-23T17:37:54.296551Z"
    }
   },
   "outputs": [
    {
     "name": "stdout",
     "output_type": "stream",
     "text": [
      "Training MAE: 0.11878177387367138\n"
     ]
    }
   ],
   "source": [
    "svr_grid = svm.SVR()\n",
    "\n",
    "params_svr = {'C': [3,4,5,6,7,8], \n",
    "              'gamma': [5,4,3,2,1,0.5],\n",
    "              'kernel': ['rbf']}\n",
    "\n",
    "grid_svr = GridSearchCV(svr_grid, params_svr,cv=5)\n",
    "grid_svr.fit(X_train_pca, y_train)"
   ]
  },
  {
   "cell_type": "code",
   "execution_count": 152,
   "metadata": {
    "ExecuteTime": {
     "end_time": "2018-11-23T18:24:33.087359Z",
     "start_time": "2018-11-23T18:24:08.719318Z"
    }
   },
   "outputs": [
    {
     "name": "stdout",
     "output_type": "stream",
     "text": [
      "[-0.9878083  -0.93158894 -1.00834542 -0.9140054  -0.89540323 -0.97501114\n",
      " -0.94688645 -0.99214737 -0.93950996 -0.9777393 ]\n",
      "-0.9568445504223\n"
     ]
    }
   ],
   "source": [
    "# Cross Validation\n",
    "svr_validate = svm.SVR(C=4,degree=3,gamma=4,kernel='rbf')\n",
    "# svr_validate = svm.SVR(gamma='auto')\n",
    "\n",
    "scores = cross_val_score(svr_validate, X_train_pca, y_train, cv=10, scoring = 'neg_mean_absolute_error')\n",
    "print(scores)\n",
    "print(np.mean(scores))"
   ]
  }
 ],
 "metadata": {
  "kernelspec": {
   "display_name": "Python 3",
   "language": "python",
   "name": "python3"
  },
  "language_info": {
   "codemirror_mode": {
    "name": "ipython",
    "version": 3
   },
   "file_extension": ".py",
   "mimetype": "text/x-python",
   "name": "python",
   "nbconvert_exporter": "python",
   "pygments_lexer": "ipython3",
   "version": "3.6.6"
  },
  "toc": {
   "base_numbering": 1,
   "nav_menu": {},
   "number_sections": true,
   "sideBar": true,
   "skip_h1_title": false,
   "title_cell": "Table of Contents",
   "title_sidebar": "Contents",
   "toc_cell": false,
   "toc_position": {
    "height": "calc(100% - 180px)",
    "left": "10px",
    "top": "150px",
    "width": "384px"
   },
   "toc_section_display": true,
   "toc_window_display": true
  },
  "varInspector": {
   "cols": {
    "lenName": 16,
    "lenType": 16,
    "lenVar": 40
   },
   "kernels_config": {
    "python": {
     "delete_cmd_postfix": "",
     "delete_cmd_prefix": "del ",
     "library": "var_list.py",
     "varRefreshCmd": "print(var_dic_list())"
    },
    "r": {
     "delete_cmd_postfix": ") ",
     "delete_cmd_prefix": "rm(",
     "library": "var_list.r",
     "varRefreshCmd": "cat(var_dic_list()) "
    }
   },
   "oldHeight": 271.25,
   "position": {
    "height": "40px",
    "left": "856.938px",
    "right": "73.3424px",
    "top": "1.96875px",
    "width": "361.969px"
   },
   "types_to_exclude": [
    "module",
    "function",
    "builtin_function_or_method",
    "instance",
    "_Feature"
   ],
   "varInspector_section_display": "none",
   "window_display": true
  }
 },
 "nbformat": 4,
 "nbformat_minor": 2
}
