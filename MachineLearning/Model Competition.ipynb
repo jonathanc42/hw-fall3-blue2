{
 "cells": [
  {
   "cell_type": "markdown",
   "metadata": {},
   "source": [
    "# Import needed packages"
   ]
  },
  {
   "cell_type": "code",
   "execution_count": 1,
   "metadata": {
    "ExecuteTime": {
     "end_time": "2018-11-25T00:08:52.191232Z",
     "start_time": "2018-11-25T00:08:46.565852Z"
    },
    "run_control": {
     "marked": false
    }
   },
   "outputs": [],
   "source": [
    "import pandas as pd\n",
    "import numpy as np\n",
    "\n",
    "from sklearn.neighbors.kde import KernelDensity\n",
    "from sklearn.model_selection import train_test_split, cross_validate, GridSearchCV, cross_val_score\n",
    "from sklearn.metrics import mean_absolute_error as mae, r2_score\n",
    "from sklearn.cross_decomposition import PLSRegression\n",
    "from sklearn.decomposition import PCA\n",
    "from sklearn.preprocessing import StandardScaler,Normalizer\n",
    "\n",
    "from sklearn import svm\n",
    "\n",
    "from xgboost import XGBRegressor\n",
    "\n",
    "import matplotlib.pyplot as plt\n",
    "%matplotlib inline\n",
    "\n",
    "# from sklearn.pipeline import make_pipeline\n",
    "# from sklearn.metrics import confusion_matrix\n",
    "# from sklearn.ensemble import GradientBoostingClassifier\n",
    "# from sklearn.preprocessing import LabelBinarizer, LabelEncoder, OneHotEncoder"
   ]
  },
  {
   "cell_type": "markdown",
   "metadata": {
    "ExecuteTime": {
     "end_time": "2018-11-06T23:38:56.656812Z",
     "start_time": "2018-11-06T23:38:56.653389Z"
    }
   },
   "source": [
    "# Data Preparation "
   ]
  },
  {
   "cell_type": "markdown",
   "metadata": {},
   "source": [
    "## dummy variable for categorical data"
   ]
  },
  {
   "cell_type": "code",
   "execution_count": 2,
   "metadata": {
    "ExecuteTime": {
     "end_time": "2018-11-25T00:08:55.762661Z",
     "start_time": "2018-11-25T00:08:55.551521Z"
    }
   },
   "outputs": [],
   "source": [
    "# read in and prepare X_train, y_train and X_test data\n",
    "X_train=pd.read_csv('MLProjectData.csv')\n",
    "X_test=pd.read_csv('testData.csv',index_col=0) # test data has index needed to remove\n",
    "\n",
    "# get test data\n",
    "y_train = X_train['target']\n",
    "X_train.drop('target',axis=1,inplace=True)\n",
    "\n",
    "# label to split the training and testing\n",
    "X_train['train']=True\n",
    "X_test['train']=False\n",
    "\n",
    "temp=pd.get_dummies(X_train.append(X_test,sort=False))\n",
    "X_train=temp[temp['train']==True].drop('train',axis=1)\n",
    "X_test=temp[temp['train']==False].drop('train',axis=1)\n",
    "\n",
    "# X_t, X_v, y_t, y_v = train_test_split(X_train, y_train, test_size = 0.3, random_state = 42)"
   ]
  },
  {
   "cell_type": "markdown",
   "metadata": {},
   "source": [
    "## Standardize/Normalize\n",
    "for non tree models such as SVR"
   ]
  },
  {
   "cell_type": "code",
   "execution_count": 5,
   "metadata": {
    "ExecuteTime": {
     "end_time": "2018-11-25T00:11:02.171218Z",
     "start_time": "2018-11-25T00:11:01.957718Z"
    },
    "scrolled": true
   },
   "outputs": [
    {
     "name": "stderr",
     "output_type": "stream",
     "text": [
      "C:\\ProgramData\\Anaconda3\\lib\\site-packages\\sklearn\\preprocessing\\data.py:617: DataConversionWarning: Data with input dtype bool, uint8, int64, float64 were all converted to float64 by StandardScaler.\n",
      "  return self.partial_fit(X, y)\n",
      "C:\\ProgramData\\Anaconda3\\lib\\site-packages\\sklearn\\base.py:462: DataConversionWarning: Data with input dtype bool, uint8, int64, float64 were all converted to float64 by StandardScaler.\n",
      "  return self.fit(X, **fit_params).transform(X)\n"
     ]
    }
   ],
   "source": [
    "std = StandardScaler()\n",
    "X_train_std = std.fit_transform(X_train)\n",
    "\n",
    "norm = Normalizer()\n",
    "X_train_norm = norm.fit_transform(X_train)"
   ]
  },
  {
   "cell_type": "code",
   "execution_count": 29,
   "metadata": {
    "ExecuteTime": {
     "end_time": "2018-11-25T04:26:04.943804Z",
     "start_time": "2018-11-25T04:26:04.940272Z"
    }
   },
   "outputs": [],
   "source": [
    "X_test_norm = norm.transform(X_test)"
   ]
  },
  {
   "cell_type": "code",
   "execution_count": 87,
   "metadata": {
    "ExecuteTime": {
     "end_time": "2018-11-22T15:12:26.573437Z",
     "start_time": "2018-11-22T15:12:26.559928Z"
    }
   },
   "outputs": [],
   "source": [
    "X_t, X_v, y_t, y_v = train_test_split(X_train_std, y_train, test_size = 0.33, random_state = 42)"
   ]
  },
  {
   "cell_type": "markdown",
   "metadata": {},
   "source": [
    "# Benchmark "
   ]
  },
  {
   "cell_type": "markdown",
   "metadata": {
    "ExecuteTime": {
     "end_time": "2018-11-21T03:09:32.876785Z",
     "start_time": "2018-11-21T03:09:32.853362Z"
    }
   },
   "source": [
    "## median and mean"
   ]
  },
  {
   "cell_type": "code",
   "execution_count": 96,
   "metadata": {
    "ExecuteTime": {
     "end_time": "2018-11-21T16:06:56.114951Z",
     "start_time": "2018-11-21T16:06:56.099423Z"
    }
   },
   "outputs": [
    {
     "data": {
      "text/plain": [
       "count    6350.000000\n",
       "mean       20.035933\n",
       "std         1.419549\n",
       "min         8.479981\n",
       "25%        19.453096\n",
       "50%        20.062500\n",
       "75%        20.680000\n",
       "max        32.849998\n",
       "Name: target, dtype: float64"
      ]
     },
     "execution_count": 96,
     "metadata": {},
     "output_type": "execute_result"
    }
   ],
   "source": [
    "y_train.describe()"
   ]
  },
  {
   "cell_type": "code",
   "execution_count": 117,
   "metadata": {
    "ExecuteTime": {
     "end_time": "2018-11-21T16:35:52.737340Z",
     "start_time": "2018-11-21T16:35:52.730312Z"
    }
   },
   "outputs": [
    {
     "name": "stdout",
     "output_type": "stream",
     "text": [
      "Benchmark\n",
      "Mean:\n",
      "R2: 1.1102230246251565e-16\n",
      "MAE: 0.9567985025831722\n",
      "Median:\n",
      "R2: -0.0003503183503301699\n",
      "MAE: 0.9563565006299212\n"
     ]
    }
   ],
   "source": [
    "y_mean=np.repeat(y_train.mean(), len(y_train))\n",
    "y_median=np.repeat(y_train.median(), len(y_train))\n",
    "print('Benchmark\\nMean:\\nR2:',r2_score(y_train, y_mean)) \n",
    "print('MAE:',mae(y_train, y_mean)) \n",
    "print('Median:\\nR2:',r2_score(y_train, y_median)) \n",
    "print('MAE:',mae(y_train, y_median)) "
   ]
  },
  {
   "cell_type": "markdown",
   "metadata": {},
   "source": [
    "## kernel density"
   ]
  },
  {
   "cell_type": "code",
   "execution_count": 91,
   "metadata": {
    "ExecuteTime": {
     "end_time": "2018-11-21T16:05:15.126868Z",
     "start_time": "2018-11-21T16:05:13.174835Z"
    },
    "scrolled": true
   },
   "outputs": [
    {
     "name": "stdout",
     "output_type": "stream",
     "text": [
      "MAE: 1.4492191158844947\n"
     ]
    }
   ],
   "source": [
    "y_train_array = y_train.values[:,np.newaxis]\n",
    "\n",
    "kde = KernelDensity(kernel='gaussian', bandwidth=0.2).fit(y_train_array)\n",
    "kde.score_samples(y_train_array)\n",
    "\n",
    "print('MAE:',mae(y_train_array,kde.sample(len(y_train_array)))) "
   ]
  },
  {
   "cell_type": "code",
   "execution_count": 94,
   "metadata": {
    "ExecuteTime": {
     "end_time": "2018-11-21T16:06:21.812679Z",
     "start_time": "2018-11-21T16:06:21.551180Z"
    },
    "scrolled": true
   },
   "outputs": [
    {
     "data": {
      "image/png": "[encoded data removed]",
      "text/plain": [
       "<Figure size 432x288 with 1 Axes>"
      ]
     },
     "metadata": {},
     "output_type": "display_data"
    }
   ],
   "source": [
    "# Visualize the target\n",
    "plt.hist(y_train,bins=100,density=0.5);\n",
    "# y_train.quantile(q=0.05)\n",
    "# y_train.quantile(q=0.95)\n",
    "plt.hist(kde.sample(len(y_train_array)),bins=100,density=0.5);"
   ]
  },
  {
   "cell_type": "markdown",
   "metadata": {},
   "source": [
    "# SVR"
   ]
  },
  {
   "cell_type": "code",
   "execution_count": 116,
   "metadata": {
    "ExecuteTime": {
     "end_time": "2018-11-21T16:33:48.806894Z",
     "start_time": "2018-11-21T16:33:42.471394Z"
    }
   },
   "outputs": [
    {
     "name": "stdout",
     "output_type": "stream",
     "text": [
      "Training R2: 0.41922643518750385\n",
      "Validation R2: 0.9512327140596165\n"
     ]
    }
   ],
   "source": [
    "svr = svm.SVR(gamma='auto')\n",
    "svr.fit(X_t, y_t) \n",
    "\n",
    "print('Training MAE:',mae(y_t, svr.predict(X_t))) \n",
    "print('Validation MAE:',mae(y_v, svr.predict(X_v))) "
   ]
  },
  {
   "cell_type": "markdown",
   "metadata": {},
   "source": [
    "## Grid Search"
   ]
  },
  {
   "cell_type": "code",
   "execution_count": 21,
   "metadata": {
    "ExecuteTime": {
     "end_time": "2018-11-25T03:29:11.330764Z",
     "start_time": "2018-11-25T02:48:57.315260Z"
    }
   },
   "outputs": [
    {
     "name": "stdout",
     "output_type": "stream",
     "text": [
      "Training MAE: 0.9555074017445552\n"
     ]
    }
   ],
   "source": [
    "svr_grid = svm.SVR()\n",
    "\n",
    "params_svr = {'C': [0.0001,0.001,0.005,0.1,0.3,0.5,1,3,5], \n",
    "              'gamma': [5,4,3,2,1.5,1,0.9,0.8,0.5],\n",
    "              'kernel': ['rbf']}\n",
    "\n",
    "grid_svr = GridSearchCV(svr_grid, params_svr,cv=5)\n",
    "grid_svr.fit(X_train_norm, y_train)\n",
    "\n",
    "# Print the MAE score\n",
    "print('Training MAE:', mae(y_train, grid_svr.best_estimator_.predict(X_train_norm)))"
   ]
  },
  {
   "cell_type": "code",
   "execution_count": 16,
   "metadata": {
    "ExecuteTime": {
     "end_time": "2018-11-25T02:33:36.467881Z",
     "start_time": "2018-11-25T02:32:46.959880Z"
    }
   },
   "outputs": [
    {
     "name": "stdout",
     "output_type": "stream",
     "text": [
      "[-0.98748141 -0.93029187 -1.00920325 -0.91268809 -0.89527034 -0.97402762\n",
      " -0.94695896 -0.99043937 -0.93956817 -0.97839978]\n",
      "-0.9564328867734393\n"
     ]
    }
   ],
   "source": [
    "scores = cross_val_score(grid_svr.best_estimator_, X_train, y_train, cv=10, scoring = 'neg_mean_absolute_error')\n",
    "print(scores)\n",
    "print(np.mean(scores))"
   ]
  },
  {
   "cell_type": "markdown",
   "metadata": {
    "ExecuteTime": {
     "end_time": "2018-11-25T01:10:40.399050Z",
     "start_time": "2018-11-25T01:10:40.393548Z"
    }
   },
   "source": [
    "SVR(C=1, cache_size=200, coef0=0.0, degree=3, epsilon=0.1, gamma=0.5,\n",
    "kernel='rbf', max_iter=-1, shrinking=True, tol=0.001, verbose=False)\n",
    "  \n",
    "SVR(C=0.1, cache_size=200, coef0=0.0, degree=3, epsilon=0.1, gamma=1,\n",
    "kernel='rbf', max_iter=-1, shrinking=True, tol=0.001, verbose=False)\n",
    "0.9565388236580195\n",
    "\n",
    "SVR(C=0.001, cache_size=200, coef0=0.0, degree=3, epsilon=0.1, gamma=5,\n",
    "  kernel='rbf', max_iter=-1, shrinking=True, tol=0.001, verbose=False)\n",
    "0.9565388236580195"
   ]
  },
  {
   "cell_type": "code",
   "execution_count": 25,
   "metadata": {
    "ExecuteTime": {
     "end_time": "2018-11-25T03:42:43.711268Z",
     "start_time": "2018-11-25T03:42:43.707263Z"
    }
   },
   "outputs": [
    {
     "data": {
      "text/plain": [
       "SVR(C=0.001, cache_size=200, coef0=0.0, degree=3, epsilon=0.1, gamma=5,\n",
       "  kernel='rbf', max_iter=-1, shrinking=True, tol=0.001, verbose=False)"
      ]
     },
     "execution_count": 25,
     "metadata": {},
     "output_type": "execute_result"
    }
   ],
   "source": [
    "grid_svr.best_estimator_"
   ]
  },
  {
   "cell_type": "code",
   "execution_count": 13,
   "metadata": {
    "ExecuteTime": {
     "end_time": "2018-11-25T03:42:43.711268Z",
     "start_time": "2018-11-25T03:42:43.707263Z"
    }
   },
   "outputs": [
    {
     "data": {
      "text/plain": [
       "{'C': [0.1, 0.3, 0.5, 0.8, 1, 2, 3],\n",
       " 'gamma': [1, 0.8, 0.5, 0.4, 0.3, 0.2, 0.1],\n",
       " 'kernel': ['rbf']}"
      ]
     },
     "execution_count": 13,
     "metadata": {},
     "output_type": "execute_result"
    }
   ],
   "source": [
    "params_svr"
   ]
  },
  {
   "cell_type": "code",
   "execution_count": 60,
   "metadata": {
    "ExecuteTime": {
     "end_time": "2018-11-20T12:42:37.369202Z",
     "start_time": "2018-11-20T12:23:27.021703Z"
    }
   },
   "outputs": [
    {
     "name": "stdout",
     "output_type": "stream",
     "text": [
      "Training R2: 0.9090573555403174\n",
      "Training R2: -0.0013610386571483168\n"
     ]
    }
   ],
   "source": [
    "svr_grid = svm.SVR()\n",
    "\n",
    "params_svr = {'C': [1,3,3.5,4], \n",
    "              'gamma': [2,1.5,1,0.8, 0.5],\n",
    "              'kernel': ['rbf']}\n",
    "\n",
    "grid_svr = GridSearchCV(svr_grid, params_svr,cv=5)\n",
    "grid_svr.fit(X_t, y_t)\n",
    "\n",
    "# Print the r2 score\n",
    "print('Training R2:',r2_score(y_t, grid_svr.best_estimator_.predict(X_t)))\n",
    "print('Training R2:',r2_score(y_v, grid_svr.best_estimator_.predict(X_v))) \n",
    "\n",
    "# best model 1\n",
    "\n",
    "# SVR(C=1, cache_size=200, coef0=0.0, degree=3, epsilon=0.1, gamma=0.001,\n",
    "#   kernel='rbf', max_iter=-1, shrinking=True, tol=0.001, verbose=False)\n",
    "\n",
    "# SVR(C=3, cache_size=200, coef0=0.0, degree=3, epsilon=0.1, gamma=0.01,\n",
    "#   kernel='rbf', max_iter=-1, shrinking=True, tol=0.001, verbose=False)\n",
    "\n",
    "# SVR(C=3, cache_size=200, coef0=0.0, degree=3, epsilon=0.1, gamma=0.9,\n",
    "#   kernel='rbf', max_iter=-1, shrinking=True, tol=0.001, verbose=False)\n",
    "# Training R2: 0.9090573555403174\n",
    "# Training R2: -0.0013610386571483168\n",
    "\n",
    "# SVR(C=3, cache_size=200, coef0=0.0, degree=2, epsilon=0.1, gamma=2,\n",
    "#   kernel='rbf', max_iter=-1, shrinking=True, tol=0.001, verbose=False)"
   ]
  },
  {
   "cell_type": "code",
   "execution_count": 61,
   "metadata": {
    "ExecuteTime": {
     "end_time": "2018-11-21T02:48:15.307055Z",
     "start_time": "2018-11-21T02:48:15.303557Z"
    }
   },
   "outputs": [
    {
     "data": {
      "text/plain": [
       "SVR(C=3, cache_size=200, coef0=0.0, degree=2, epsilon=0.1, gamma=2,\n",
       "  kernel='rbf', max_iter=-1, shrinking=True, tol=0.001, verbose=False)"
      ]
     },
     "execution_count": 61,
     "metadata": {},
     "output_type": "execute_result"
    }
   ],
   "source": [
    "grid_svr.best_estimator_"
   ]
  },
  {
   "cell_type": "code",
   "execution_count": 97,
   "metadata": {
    "ExecuteTime": {
     "end_time": "2018-11-21T16:08:01.272514Z",
     "start_time": "2018-11-21T16:07:56.372013Z"
    },
    "scrolled": true
   },
   "outputs": [
    {
     "name": "stdout",
     "output_type": "stream",
     "text": [
      "0.9090573555403174\n",
      "0.1501724058306333\n"
     ]
    }
   ],
   "source": [
    "print(r2_score(y_t, grid_svr.best_estimator_.predict(X_t))) \n",
    "print(mae(y_t, grid_svr.best_estimator_.predict(X_t))) "
   ]
  },
  {
   "cell_type": "markdown",
   "metadata": {},
   "source": [
    "## Cross Validation"
   ]
  },
  {
   "cell_type": "code",
   "execution_count": 26,
   "metadata": {
    "ExecuteTime": {
     "end_time": "2018-11-25T03:43:51.132612Z",
     "start_time": "2018-11-25T03:43:11.536112Z"
    },
    "scrolled": true
   },
   "outputs": [
    {
     "name": "stdout",
     "output_type": "stream",
     "text": [
      "[-0.98733513 -0.92959761 -1.00955025 -0.91225911 -0.89308978 -0.9735381\n",
      " -0.9459592  -0.98967521 -0.93943394 -0.97791398]\n",
      "-0.9558352306195598\n"
     ]
    }
   ],
   "source": [
    "svr_validate = svm.SVR(C=0.001,degree=3,gamma=5,kernel='rbf')\n",
    "# svr_validate = svm.SVR(gamma='auto')\n",
    "\n",
    "scores = cross_val_score(svr_validate, X_train_norm, y_train, cv=10, scoring = 'neg_mean_absolute_error')\n",
    "print(scores)\n",
    "print(np.mean(scores))"
   ]
  },
  {
   "cell_type": "code",
   "execution_count": null,
   "metadata": {},
   "outputs": [],
   "source": []
  },
  {
   "cell_type": "code",
   "execution_count": 19,
   "metadata": {
    "ExecuteTime": {
     "end_time": "2018-11-25T02:47:51.305536Z",
     "start_time": "2018-11-25T02:47:12.668502Z"
    },
    "scrolled": true
   },
   "outputs": [
    {
     "name": "stdout",
     "output_type": "stream",
     "text": [
      "[-0.9908526  -0.93328811 -1.0075597  -0.91038571 -0.88694411 -0.97235694\n",
      " -0.94409592 -0.99034215 -0.94005804 -0.97752778]\n",
      "-0.9553411052541234\n"
     ]
    }
   ],
   "source": [
    "svr_validate = svm.SVR(C=3,degree=3,gamma=0.9,kernel='rbf')\n",
    "# svr_validate = svm.SVR(gamma='auto')\n",
    "\n",
    "scores = cross_val_score(svr_validate, X_train_norm, y_train, cv=10, scoring = 'neg_mean_absolute_error')\n",
    "print(scores)\n",
    "print(np.mean(scores))"
   ]
  },
  {
   "cell_type": "code",
   "execution_count": null,
   "metadata": {},
   "outputs": [],
   "source": []
  },
  {
   "cell_type": "code",
   "execution_count": 28,
   "metadata": {
    "ExecuteTime": {
     "end_time": "2018-11-25T04:24:55.213181Z",
     "start_time": "2018-11-25T04:24:47.045678Z"
    },
    "scrolled": true
   },
   "outputs": [
    {
     "name": "stdout",
     "output_type": "stream",
     "text": [
      "0.9554826744307535\n",
      "0.9554826744307535\n"
     ]
    }
   ],
   "source": [
    "svr_final = svm.SVR(C=0.001,degree=3,gamma=6,kernel='rbf')\n",
    "# svr_validate = svm.SVR(gamma='auto')\n",
    "svr_final.fit(X_train_norm, y_train)\n",
    "scores = mae(y_train, svr_final.predict(X_train_norm))\n",
    "print(scores)\n",
    "print(np.mean(scores))"
   ]
  },
  {
   "cell_type": "code",
   "execution_count": 30,
   "metadata": {
    "ExecuteTime": {
     "end_time": "2018-11-25T04:26:53.075715Z",
     "start_time": "2018-11-25T04:26:53.028217Z"
    }
   },
   "outputs": [],
   "source": [
    "result = svr_final.predict(X_test_norm)"
   ]
  },
  {
   "cell_type": "code",
   "execution_count": 31,
   "metadata": {
    "ExecuteTime": {
     "end_time": "2018-11-25T04:26:58.709964Z",
     "start_time": "2018-11-25T04:26:58.592439Z"
    }
   },
   "outputs": [
    {
     "data": {
      "text/plain": [
       "(array([12., 31., 18.,  2.,  6.,  2.,  2.,  1.,  1.,  2.]),\n",
       " array([20.06090585, 20.06534632, 20.06978679, 20.07422726, 20.07866773,\n",
       "        20.0831082 , 20.08754867, 20.09198914, 20.09642961, 20.10087008,\n",
       "        20.10531055]),\n",
       " <a list of 10 Patch objects>)"
      ]
     },
     "execution_count": 31,
     "metadata": {},
     "output_type": "execute_result"
    },
    {
     "data": {
      "image/png": "[encoded data removed]",
      "text/plain": [
       "<Figure size 432x288 with 1 Axes>"
      ]
     },
     "metadata": {},
     "output_type": "display_data"
    }
   ],
   "source": [
    "plt.hist(result)"
   ]
  },
  {
   "cell_type": "code",
   "execution_count": 32,
   "metadata": {
    "ExecuteTime": {
     "end_time": "2018-11-25T04:27:11.683022Z",
     "start_time": "2018-11-25T04:27:11.679052Z"
    }
   },
   "outputs": [
    {
     "data": {
      "text/plain": [
       "77"
      ]
     },
     "execution_count": 32,
     "metadata": {},
     "output_type": "execute_result"
    }
   ],
   "source": [
    "len(result)"
   ]
  },
  {
   "cell_type": "code",
   "execution_count": 35,
   "metadata": {
    "ExecuteTime": {
     "end_time": "2018-11-25T04:28:41.137527Z",
     "start_time": "2018-11-25T04:28:41.134528Z"
    }
   },
   "outputs": [],
   "source": [
    "result.tofile('result.csv',sep='\\n')"
   ]
  },
  {
   "cell_type": "code",
   "execution_count": 24,
   "metadata": {
    "ExecuteTime": {
     "end_time": "2018-11-25T04:24:55.213181Z",
     "start_time": "2018-11-25T04:24:47.045678Z"
    }
   },
   "outputs": [
    {
     "name": "stdout",
     "output_type": "stream",
     "text": [
      "[-0.95842302 -0.96088885 -0.93335291 -0.96781927 -0.95877465]\n",
      "-0.9558517380565034\n"
     ]
    }
   ],
   "source": [
    "svr_validate = svm.SVR(C=0.001,degree=3,gamma=6,kernel='rbf')\n",
    "# svr_validate = svm.SVR(gamma='auto')\n",
    "\n",
    "scores = cross_val_score(svr_validate, X_train_norm, y_train, cv=5, scoring = 'neg_mean_absolute_error')\n",
    "print(scores)\n",
    "print(np.mean(scores))"
   ]
  },
  {
   "cell_type": "code",
   "execution_count": 118,
   "metadata": {
    "ExecuteTime": {
     "end_time": "2018-11-21T16:39:59.033499Z",
     "start_time": "2018-11-21T16:39:06.896993Z"
    }
   },
   "outputs": [
    {
     "name": "stdout",
     "output_type": "stream",
     "text": [
      "[-0.98802096 -0.93007319 -1.01014057 -0.91324138 -0.89532524 -0.97491872\n",
      " -0.94788529 -0.99105878 -0.9397429  -0.97827516]\n",
      "-0.9568682186813454\n"
     ]
    }
   ],
   "source": [
    "svr_validate = svm.SVR(C=3,degree=3,gamma=0.9,kernel='rbf')\n",
    "# svr_validate = svm.SVR(gamma='auto')\n",
    "\n",
    "scores = cross_val_score(svr_validate, X_train, y_train, cv=10, scoring = 'neg_mean_absolute_error')\n",
    "print(scores)\n",
    "print(np.mean(scores))"
   ]
  },
  {
   "cell_type": "markdown",
   "metadata": {},
   "source": [
    "### Standardized Data"
   ]
  },
  {
   "cell_type": "code",
   "execution_count": 6,
   "metadata": {
    "ExecuteTime": {
     "end_time": "2018-11-25T00:12:31.221163Z",
     "start_time": "2018-11-25T00:11:37.177133Z"
    }
   },
   "outputs": [
    {
     "name": "stdout",
     "output_type": "stream",
     "text": [
      "[-0.98771723 -0.93132544 -1.00851058 -0.9137543  -0.89537944 -0.97483196\n",
      " -0.94677773 -0.99193567 -0.9394993  -0.97780779]\n",
      "-0.9567539434416366\n"
     ]
    }
   ],
   "source": [
    "svr_validate = svm.SVR(C=3,degree=3,gamma=0.9,kernel='rbf')\n",
    "\n",
    "scores = cross_val_score(svr_validate, X_train_std, y_train, cv=10, scoring = 'neg_mean_absolute_error')\n",
    "print(scores)\n",
    "print(np.mean(scores))"
   ]
  },
  {
   "cell_type": "code",
   "execution_count": 7,
   "metadata": {
    "ExecuteTime": {
     "end_time": "2018-11-25T00:13:10.318133Z",
     "start_time": "2018-11-25T00:12:31.327131Z"
    }
   },
   "outputs": [
    {
     "name": "stdout",
     "output_type": "stream",
     "text": [
      "[-0.9908526  -0.93328811 -1.0075597  -0.91038571 -0.88694411 -0.97235694\n",
      " -0.94409592 -0.99034215 -0.94005804 -0.97752778]\n",
      "-0.9553411052541234\n"
     ]
    }
   ],
   "source": [
    "svr_validate = svm.SVR(C=3,degree=3,gamma=0.9,kernel='rbf')\n",
    "\n",
    "scores = cross_val_score(svr_validate, X_train_norm, y_train, cv=10, scoring = 'neg_mean_absolute_error')\n",
    "print(scores)\n",
    "print(np.mean(scores))"
   ]
  },
  {
   "cell_type": "markdown",
   "metadata": {},
   "source": [
    "## Normalized Data"
   ]
  },
  {
   "cell_type": "code",
   "execution_count": 154,
   "metadata": {
    "ExecuteTime": {
     "end_time": "2018-11-21T17:07:19.756462Z",
     "start_time": "2018-11-21T17:06:41.190433Z"
    }
   },
   "outputs": [
    {
     "name": "stdout",
     "output_type": "stream",
     "text": [
      "[-0.9908526  -0.93328811 -1.0075597  -0.91038571 -0.88694411 -0.97235694\n",
      " -0.94409592 -0.99034215 -0.94005804 -0.97752778]\n",
      "-0.9553411052541234\n"
     ]
    }
   ],
   "source": [
    "svr_validate = svm.SVR(C=3,degree=3,gamma=0.9,kernel='rbf')\n",
    "\n",
    "scores = cross_val_score(svr_validate, X_train_norm, y_train, cv=10, scoring = 'neg_mean_absolute_error')\n",
    "print(scores)\n",
    "print(np.mean(scores))"
   ]
  },
  {
   "cell_type": "markdown",
   "metadata": {},
   "source": [
    "## PCA + SVR"
   ]
  },
  {
   "cell_type": "code",
   "execution_count": 150,
   "metadata": {
    "ExecuteTime": {
     "end_time": "2018-11-23T17:47:33.876054Z",
     "start_time": "2018-11-23T17:37:54.296551Z"
    }
   },
   "outputs": [
    {
     "name": "stdout",
     "output_type": "stream",
     "text": [
      "Training MAE: 0.11878177387367138\n"
     ]
    }
   ],
   "source": [
    "svr_grid = svm.SVR()\n",
    "\n",
    "params_svr = {'C': [3,4,5,6,7,8], \n",
    "              'gamma': [5,4,3,2,1,0.5],\n",
    "              'kernel': ['rbf']}\n",
    "\n",
    "grid_svr = GridSearchCV(svr_grid, params_svr,cv=5)\n",
    "grid_svr.fit(X_train_pca, y_train)\n",
    "\n",
    "# Print the mae score\n",
    "print('Training MAE:',mae(y_train, grid_svr.best_estimator_.predict(X_train_pca)))"
   ]
  },
  {
   "cell_type": "code",
   "execution_count": 151,
   "metadata": {
    "ExecuteTime": {
     "end_time": "2018-11-23T17:47:33.935551Z",
     "start_time": "2018-11-23T17:47:33.932051Z"
    }
   },
   "outputs": [
    {
     "data": {
      "text/plain": [
       "SVR(C=4, cache_size=200, coef0=0.0, degree=3, epsilon=0.1, gamma=4,\n",
       "  kernel='rbf', max_iter=-1, shrinking=True, tol=0.001, verbose=False)"
      ]
     },
     "execution_count": 151,
     "metadata": {},
     "output_type": "execute_result"
    }
   ],
   "source": [
    "grid_svr.best_estimator_"
   ]
  },
  {
   "cell_type": "code",
   "execution_count": 152,
   "metadata": {
    "ExecuteTime": {
     "end_time": "2018-11-23T18:24:33.087359Z",
     "start_time": "2018-11-23T18:24:08.719318Z"
    }
   },
   "outputs": [
    {
     "name": "stdout",
     "output_type": "stream",
     "text": [
      "[-0.9878083  -0.93158894 -1.00834542 -0.9140054  -0.89540323 -0.97501114\n",
      " -0.94688645 -0.99214737 -0.93950996 -0.9777393 ]\n",
      "-0.9568445504223\n"
     ]
    }
   ],
   "source": [
    "# Cross Validation\n",
    "svr_validate = svm.SVR(C=4,degree=3,gamma=4,kernel='rbf')\n",
    "# svr_validate = svm.SVR(gamma='auto')\n",
    "\n",
    "scores = cross_val_score(svr_validate, X_train_pca, y_train, cv=10, scoring = 'neg_mean_absolute_error')\n",
    "print(scores)\n",
    "print(np.mean(scores))"
   ]
  },
  {
   "cell_type": "markdown",
   "metadata": {},
   "source": [
    "# xgboost"
   ]
  },
  {
   "cell_type": "markdown",
   "metadata": {},
   "source": [
    "## Grid Search"
   ]
  },
  {
   "cell_type": "code",
   "execution_count": null,
   "metadata": {
    "ExecuteTime": {
     "end_time": "2018-11-20T16:13:02.755945Z",
     "start_time": "2018-11-20T16:13:02.713502Z"
    }
   },
   "outputs": [],
   "source": [
    "xgr = XGBRegressor()\n",
    "# Add silent=True to avoid printing out updates with each cycle\n",
    "# xgr.fit(X_train, y_train)\n",
    "\n",
    "# A parameter grid for XGBoost\n",
    "# params = {'min_child_weight':[4,5],\n",
    "#           'gamma':[i/10.0 for i in range(3,6)],\n",
    "#           'subsample':[i/10.0 for i in range(6,11)],\n",
    "#           'colsample_bytree':[i/10.0 for i in range(6,11)],\n",
    "#           'max_depth': [2,3,4],\n",
    "#           'gpu_id':[0],\n",
    "#           'max_bin':[16],\n",
    "#           'tree_method':['gpu_hist'],\n",
    "#          'cv':[3]}\n",
    "\n",
    "params = {'gpu_id':[0],\n",
    "          'tree_method':['gpu_exact'],\n",
    "          'n_estimators':[10,30,50,100,300,500,1000,2000,3000],\n",
    "          'learning_rate':[0.001,0.01,0.03, 0.05,0.08, 0.1,0.3,0.5,0.7],\n",
    "          'max_depth':[2,3,4]\n",
    "         }\n",
    "\n",
    "\n",
    "# Initialize XGB and GridSearch\n",
    "xgb = XGBRegressor(nthread=-1) \n",
    "\n",
    "grid = GridSearchCV(xgb, params)\n",
    "grid.fit(X_train, y_train)\n",
    "\n",
    "# Print the r2 score\n",
    "print(r2_score(y_train, grid.best_estimator_.predict(X_train))) \n",
    "\n",
    "# Save the file\n",
    "# y_test = grid.best_estimator_.predict(x_test)\n",
    "# results_df = pd.DataFrame(data={'y':y_test}) \n",
    "# ids = test_df[\"ID\"]\n",
    "# joined = pd.DataFrame(ids).join(results_df)\n",
    "# joined.to_csv(\"mercedes.csv\", index=False)"
   ]
  },
  {
   "cell_type": "code",
   "execution_count": 43,
   "metadata": {
    "ExecuteTime": {
     "end_time": "2018-11-19T00:48:32.807376Z",
     "start_time": "2018-11-19T00:48:32.750377Z"
    }
   },
   "outputs": [
    {
     "name": "stdout",
     "output_type": "stream",
     "text": [
      "0.10545506348483091\n"
     ]
    }
   ],
   "source": [
    "print(r2_score(y_train, grid.best_estimator_.predict(X_train))) "
   ]
  },
  {
   "cell_type": "code",
   "execution_count": 45,
   "metadata": {
    "ExecuteTime": {
     "end_time": "2018-11-19T00:49:34.494234Z",
     "start_time": "2018-11-19T00:49:34.490210Z"
    }
   },
   "outputs": [
    {
     "data": {
      "text/plain": [
       "XGBRegressor(base_score=0.5, booster='gbtree', colsample_bylevel=1,\n",
       "       colsample_bytree=1, gamma=0, gpu_id=0, importance_type='gain',\n",
       "       learning_rate=0.1, max_delta_step=0, max_depth=2,\n",
       "       min_child_weight=1, missing=None, n_estimators=50, n_jobs=1,\n",
       "       nthread=-1, objective='reg:linear', random_state=0, reg_alpha=0,\n",
       "       reg_lambda=1, scale_pos_weight=1, seed=None, silent=True,\n",
       "       subsample=1, tree_method='gpu_exact')"
      ]
     },
     "execution_count": 45,
     "metadata": {},
     "output_type": "execute_result"
    }
   ],
   "source": [
    "grid.best_estimator_"
   ]
  },
  {
   "cell_type": "markdown",
   "metadata": {},
   "source": [
    "Best Estimator 1\n",
    "\n",
    "r2_score: 0.10044651984945663\n",
    "\n",
    "XGBRegressor(base_score=0.5, booster='gbtree', colsample_bylevel=1,\n",
    "       colsample_bytree=1, cv=3, gamma=0, gpu_id=0, importance_type='gain',\n",
    "       learning_rate=0.05, max_bin=16, max_delta_step=0, max_depth=2,\n",
    "       min_child_weight=1, missing=None, n_estimators=100, n_jobs=1,\n",
    "       nthread=-1, objective='reg:linear', random_state=0, reg_alpha=0,\n",
    "       reg_lambda=1, scale_pos_weight=1, seed=None, silent=True,\n",
    "       subsample=1, tree_method='gpu_exact')\n",
    "       \n",
    "\n",
    "{'cv': 3,\n",
    " 'gpu_id': 0,\n",
    " 'learning_rate': 0.05,\n",
    " 'max_bin': 16,\n",
    " 'max_depth': 2,\n",
    " 'n_estimators': 100,\n",
    " 'tree_method': 'gpu_exact'}"
   ]
  },
  {
   "cell_type": "markdown",
   "metadata": {},
   "source": [
    "Best Estimator 2\n",
    "\n",
    "0.10545506348483091\n",
    "\n",
    "XGBRegressor(base_score=0.5, booster='gbtree', colsample_bylevel=1,\n",
    "       colsample_bytree=1, gamma=0, gpu_id=0, importance_type='gain',\n",
    "       learning_rate=0.1, max_delta_step=0, max_depth=2,\n",
    "       min_child_weight=1, missing=None, n_estimators=50, n_jobs=1,\n",
    "       nthread=-1, objective='reg:linear', random_state=0, reg_alpha=0,\n",
    "       reg_lambda=1, scale_pos_weight=1, seed=None, silent=True,\n",
    "       subsample=1, tree_method='gpu_exact')\n",
    "       \n",
    "       \n",
    "{'gpu_id': 0,\n",
    " 'learning_rate': 0.1,\n",
    " 'max_depth': 2,\n",
    " 'n_estimators': 50,\n",
    " 'tree_method': 'gpu_exact'}"
   ]
  },
  {
   "cell_type": "code",
   "execution_count": 46,
   "metadata": {
    "ExecuteTime": {
     "end_time": "2018-11-19T00:50:37.940077Z",
     "start_time": "2018-11-19T00:50:37.936080Z"
    }
   },
   "outputs": [
    {
     "data": {
      "text/plain": [
       "{'gpu_id': 0,\n",
       " 'learning_rate': 0.1,\n",
       " 'max_depth': 2,\n",
       " 'n_estimators': 50,\n",
       " 'tree_method': 'gpu_exact'}"
      ]
     },
     "execution_count": 46,
     "metadata": {},
     "output_type": "execute_result"
    }
   ],
   "source": [
    "grid.best_params_"
   ]
  },
  {
   "cell_type": "code",
   "execution_count": 120,
   "metadata": {
    "ExecuteTime": {
     "end_time": "2018-11-21T16:46:52.765435Z",
     "start_time": "2018-11-21T16:46:51.902935Z"
    }
   },
   "outputs": [
    {
     "name": "stdout",
     "output_type": "stream",
     "text": [
      "Training MAE: 0.9345158588903575\n",
      "Validation MAE: 0.9707110896939656\n"
     ]
    }
   ],
   "source": [
    "xgr = XGBRegressor(learning_rate=0.1, n_estimators=50, max_depth=2)\n",
    "\n",
    "xgr.fit(X_t,y_t)\n",
    "print('Training MAE:',mae(y_t, xgr.predict(X_t)))\n",
    "print('Validation MAE:',mae(y_v, xgr.predict(X_v))) "
   ]
  },
  {
   "cell_type": "code",
   "execution_count": 122,
   "metadata": {
    "ExecuteTime": {
     "end_time": "2018-11-21T16:49:22.241930Z",
     "start_time": "2018-11-21T16:49:22.236430Z"
    }
   },
   "outputs": [],
   "source": [
    "importance = xgr.feature_importances_"
   ]
  },
  {
   "cell_type": "code",
   "execution_count": 124,
   "metadata": {
    "ExecuteTime": {
     "end_time": "2018-11-21T16:49:50.015990Z",
     "start_time": "2018-11-21T16:49:50.011991Z"
    }
   },
   "outputs": [
    {
     "data": {
      "text/plain": [
       "0.01"
      ]
     },
     "execution_count": 124,
     "metadata": {},
     "output_type": "execute_result"
    }
   ],
   "source": [
    "np.mean(importance)"
   ]
  },
  {
   "cell_type": "code",
   "execution_count": null,
   "metadata": {},
   "outputs": [],
   "source": [
    "col_important = (X_train.columns)[importance>0]"
   ]
  },
  {
   "cell_type": "code",
   "execution_count": 142,
   "metadata": {
    "ExecuteTime": {
     "end_time": "2018-11-21T16:53:18.048642Z",
     "start_time": "2018-11-21T16:53:18.044669Z"
    }
   },
   "outputs": [
    {
     "data": {
      "text/plain": [
       "Index(['num1', 'num2', 'num3', 'num4', 'num5', 'num6', 'num7', 'num8', 'num9',\n",
       "       'num11', 'num13', 'num16', 'num17', 'num18', 'num19', 'num21', 'num22',\n",
       "       'num24', 'num25', 'num27', 'num28', 'num32', 'num33', 'num34', 'num35',\n",
       "       'num36', 'num40', 'num42', 'num44', 'num45', 'num46', 'num48', 'num49',\n",
       "       'num58'],\n",
       "      dtype='object')"
      ]
     },
     "execution_count": 142,
     "metadata": {},
     "output_type": "execute_result"
    }
   ],
   "source": [
    "col_important"
   ]
  },
  {
   "cell_type": "code",
   "execution_count": 144,
   "metadata": {
    "ExecuteTime": {
     "end_time": "2018-11-21T16:53:54.056344Z",
     "start_time": "2018-11-21T16:53:54.050876Z"
    }
   },
   "outputs": [],
   "source": [
    "X_train_imp = X_train[col_important]"
   ]
  },
  {
   "cell_type": "markdown",
   "metadata": {},
   "source": [
    "## Cross Validation"
   ]
  },
  {
   "cell_type": "code",
   "execution_count": 3,
   "metadata": {
    "ExecuteTime": {
     "end_time": "2018-11-25T00:09:31.993013Z",
     "start_time": "2018-11-25T00:09:21.544983Z"
    }
   },
   "outputs": [
    {
     "name": "stdout",
     "output_type": "stream",
     "text": [
      "[-0.99393415 -0.95350287 -1.02278295 -0.92854782 -0.91686269 -0.97663684\n",
      " -0.9515225  -1.01581628 -0.94676996 -0.98056586]\n",
      "-0.9686941919682732\n"
     ]
    }
   ],
   "source": [
    "xgr_cv = XGBRegressor(learning_rate=0.1, n_estimators=50, max_depth=2)\n",
    "# xgr_cv = XGBRegressor()\n",
    "\n",
    "\n",
    "scores = cross_val_score(xgr_cv, X_train, y_train, cv=10, scoring = 'neg_mean_absolute_error')\n",
    "\n",
    "print(scores)\n",
    "print(np.mean(scores))"
   ]
  },
  {
   "cell_type": "markdown",
   "metadata": {},
   "source": [
    "## CV on important variables"
   ]
  },
  {
   "cell_type": "code",
   "execution_count": 149,
   "metadata": {
    "ExecuteTime": {
     "end_time": "2018-11-21T17:02:08.062152Z",
     "start_time": "2018-11-21T17:01:52.313722Z"
    }
   },
   "outputs": [
    {
     "name": "stderr",
     "output_type": "stream",
     "text": [
      "[Parallel(n_jobs=-1)]: Using backend LokyBackend with 8 concurrent workers.\n",
      "[Parallel(n_jobs=-1)]: Done   6 out of  10 | elapsed:   15.2s remaining:   10.1s\n"
     ]
    },
    {
     "name": "stdout",
     "output_type": "stream",
     "text": [
      "[-0.99212601 -0.95100112 -1.02246828 -0.92710184 -0.92045212 -0.97497059\n",
      " -0.95330923 -1.01189952 -0.94613795 -0.97986577]\n",
      "-0.9679332436821021\n"
     ]
    },
    {
     "name": "stderr",
     "output_type": "stream",
     "text": [
      "[Parallel(n_jobs=-1)]: Done  10 out of  10 | elapsed:   15.6s finished\n"
     ]
    }
   ],
   "source": [
    "xgr_cv = XGBRegressor(learning_rate=0.1, n_estimators=50, max_depth=2)\n",
    "# xgr_cv = XGBRegressor()\n",
    "\n",
    "\n",
    "scores = cross_val_score(xgr_cv, X_train_imp, y_train, cv=10, scoring = 'neg_mean_absolute_error',verbose=True, n_jobs=-1)\n",
    "\n",
    "print(scores)\n",
    "print(np.mean(scores))"
   ]
  },
  {
   "cell_type": "code",
   "execution_count": 123,
   "metadata": {
    "ExecuteTime": {
     "end_time": "2018-11-23T16:24:30.615837Z",
     "start_time": "2018-11-23T16:24:14.583711Z"
    }
   },
   "outputs": [
    {
     "name": "stderr",
     "output_type": "stream",
     "text": [
      "[Parallel(n_jobs=-1)]: Using backend LokyBackend with 8 concurrent workers.\n",
      "[Parallel(n_jobs=-1)]: Done   6 out of  10 | elapsed:   15.5s remaining:   10.3s\n"
     ]
    },
    {
     "name": "stdout",
     "output_type": "stream",
     "text": [
      "[-0.99203813 -0.94649947 -1.02849914 -0.92599416 -0.91176442 -0.98749017\n",
      " -0.95710285 -1.00019636 -0.95296927 -0.98677459]\n",
      "-0.9689328565372017\n"
     ]
    },
    {
     "name": "stderr",
     "output_type": "stream",
     "text": [
      "[Parallel(n_jobs=-1)]: Done  10 out of  10 | elapsed:   15.9s finished\n"
     ]
    }
   ],
   "source": [
    "xgr_cv = XGBRegressor(learning_rate=0.1, n_estimators=50, max_depth=2)\n",
    "# xgr_cv = XGBRegressor()\n",
    "\n",
    "\n",
    "scores = cross_val_score(xgr_cv, X_train_pca, y_train, cv=10, scoring = 'neg_mean_absolute_error',verbose=True, n_jobs=-1)\n",
    "\n",
    "print(scores)\n",
    "print(np.mean(scores))"
   ]
  },
  {
   "cell_type": "code",
   "execution_count": 127,
   "metadata": {
    "ExecuteTime": {
     "end_time": "2018-11-23T16:35:52.319511Z",
     "start_time": "2018-11-23T16:35:51.793046Z"
    }
   },
   "outputs": [],
   "source": [
    "xgr_cv.fit(X_train_pca, y_train)\n",
    "xgr_imp = xgr_cv.feature_importances_"
   ]
  },
  {
   "cell_type": "code",
   "execution_count": 140,
   "metadata": {
    "ExecuteTime": {
     "end_time": "2018-11-23T16:39:08.371660Z",
     "start_time": "2018-11-23T16:39:08.368684Z"
    },
    "scrolled": true
   },
   "outputs": [],
   "source": [
    "pca_imp = (xgr_imp > 0.03).sum()"
   ]
  },
  {
   "cell_type": "code",
   "execution_count": 131,
   "metadata": {
    "ExecuteTime": {
     "end_time": "2018-11-23T16:37:11.090330Z",
     "start_time": "2018-11-23T16:37:11.086833Z"
    }
   },
   "outputs": [],
   "source": [
    "from scipy import stats"
   ]
  },
  {
   "cell_type": "code",
   "execution_count": 132,
   "metadata": {
    "ExecuteTime": {
     "end_time": "2018-11-23T16:37:28.740760Z",
     "start_time": "2018-11-23T16:37:28.732284Z"
    }
   },
   "outputs": [
    {
     "data": {
      "text/plain": [
       "DescribeResult(nobs=30, minmax=(0.0, 0.10030564), mean=0.033333335, variance=0.00069777603, skewness=0.4285144805908203, kurtosis=-0.3627169177073939)"
      ]
     },
     "execution_count": 132,
     "metadata": {},
     "output_type": "execute_result"
    }
   ],
   "source": [
    "stats.describe(xgr_imp)"
   ]
  },
  {
   "cell_type": "code",
   "execution_count": 135,
   "metadata": {
    "ExecuteTime": {
     "end_time": "2018-11-23T16:38:22.395698Z",
     "start_time": "2018-11-23T16:38:22.391197Z"
    }
   },
   "outputs": [
    {
     "data": {
      "text/plain": [
       "0.03154599014669657"
      ]
     },
     "execution_count": 135,
     "metadata": {},
     "output_type": "execute_result"
    }
   ],
   "source": [
    "np.quantile(xgr_imp, 0.5)"
   ]
  },
  {
   "cell_type": "markdown",
   "metadata": {},
   "source": [
    "## Important Variables"
   ]
  },
  {
   "cell_type": "code",
   "execution_count": null,
   "metadata": {},
   "outputs": [],
   "source": [
    "xgr"
   ]
  },
  {
   "cell_type": "code",
   "execution_count": 54,
   "metadata": {
    "ExecuteTime": {
     "end_time": "2018-11-19T00:52:27.534593Z",
     "start_time": "2018-11-19T00:52:26.884336Z"
    }
   },
   "outputs": [
    {
     "data": {
      "image/png": "[encoded data removed]",
      "text/plain": [
       "<Figure size 432x288 with 1 Axes>"
      ]
     },
     "metadata": {},
     "output_type": "display_data"
    }
   ],
   "source": [
    "importances = grid.best_estimator_.feature_importances_\n",
    "indices = np.argsort(importances)[::-1]\n",
    "\n",
    "plt.bar(range(X_train.shape[1]), importances[indices],\n",
    "       color=\"r\", align=\"center\")\n",
    "plt.title(\"Feature importances\")\n",
    "#plt.bar(range(X.shape[1]), importances[indices],color=\"r\", yerr=std[indices], align=\"center\")\n",
    "plt.xticks(range(X_train.shape[1]), indices)\n",
    "plt.xlim([-1, X_train.shape[1]])\n",
    "plt.show()"
   ]
  },
  {
   "cell_type": "markdown",
   "metadata": {},
   "source": [
    "## PCA + XGBOOST"
   ]
  },
  {
   "cell_type": "markdown",
   "metadata": {},
   "source": [
    "### pca"
   ]
  },
  {
   "cell_type": "code",
   "execution_count": 109,
   "metadata": {
    "ExecuteTime": {
     "end_time": "2018-11-23T15:03:45.213983Z",
     "start_time": "2018-11-23T15:03:45.165512Z"
    }
   },
   "outputs": [
    {
     "data": {
      "text/plain": [
       "PCA(copy=True, iterated_power='auto', n_components=None, random_state=None,\n",
       "  svd_solver='auto', tol=0.0, whiten=False)"
      ]
     },
     "execution_count": 109,
     "metadata": {},
     "output_type": "execute_result"
    }
   ],
   "source": [
    "pca = PCA()\n",
    "pca.fit(X_train_std)"
   ]
  },
  {
   "cell_type": "code",
   "execution_count": 114,
   "metadata": {
    "ExecuteTime": {
     "end_time": "2018-11-23T15:06:06.247054Z",
     "start_time": "2018-11-23T15:06:06.242548Z"
    },
    "scrolled": false
   },
   "outputs": [
    {
     "data": {
      "text/plain": [
       "array([0.19973459, 0.28608711, 0.33845086, 0.37747577, 0.41161975,\n",
       "       0.44328948, 0.47426695, 0.4942322 , 0.50851313, 0.52201532,\n",
       "       0.53516054, 0.54815198, 0.56093585, 0.57361734, 0.58568469,\n",
       "       0.59761349, 0.6094022 , 0.62100833, 0.63230002, 0.64352079,\n",
       "       0.65467183, 0.66577919, 0.67684759, 0.68785157, 0.69877087,\n",
       "       0.70963107, 0.72042769, 0.73109764, 0.7417231 , 0.75217493,\n",
       "       0.76236631, 0.77253448, 0.78266108, 0.79272615, 0.80261892,\n",
       "       0.81233117, 0.82199633, 0.83156169, 0.84097757, 0.85034633,\n",
       "       0.85960984, 0.86879495, 0.87777755, 0.88669537, 0.89547088,\n",
       "       0.90411986, 0.9125614 , 0.92087645, 0.92896379, 0.93674581,\n",
       "       0.94419843, 0.9511522 , 0.95803087, 0.96377787, 0.96935227,\n",
       "       0.97332238, 0.9768065 , 0.98005521, 0.98287187, 0.98518175,\n",
       "       0.987137  , 0.98898566, 0.99078581, 0.99217221, 0.99343772,\n",
       "       0.99441006, 0.99522761, 0.99595371, 0.99656011, 0.99706276,\n",
       "       0.9975608 , 0.99801221, 0.99840415, 0.99873552, 0.99903862,\n",
       "       0.99932396, 0.99955463, 0.99972071, 0.99985099, 0.9999311 ,\n",
       "       0.99997892, 0.99998911, 0.99999598, 0.99999842, 0.99999945,\n",
       "       1.        , 1.        , 1.        , 1.        , 1.        ,\n",
       "       1.        , 1.        , 1.        , 1.        , 1.        ,\n",
       "       1.        , 1.        , 1.        , 1.        , 1.        ])"
      ]
     },
     "execution_count": 114,
     "metadata": {},
     "output_type": "execute_result"
    }
   ],
   "source": [
    "# 35 components explain 80%\n",
    "# 30 components explain 70%\n",
    "pca.explained_variance_ratio_.cumsum()"
   ]
  },
  {
   "cell_type": "code",
   "execution_count": 122,
   "metadata": {
    "ExecuteTime": {
     "end_time": "2018-11-23T16:23:31.418945Z",
     "start_time": "2018-11-23T16:23:31.414475Z"
    }
   },
   "outputs": [
    {
     "data": {
      "text/plain": [
       "(6350, 30)"
      ]
     },
     "execution_count": 122,
     "metadata": {},
     "output_type": "execute_result"
    }
   ],
   "source": [
    "pca_preprocess = PCA(n_components=30)\n",
    "X_train_pca = pca_preprocess.fit_transform(X_train_std)\n",
    "X_train_pca.shape"
   ]
  },
  {
   "cell_type": "markdown",
   "metadata": {},
   "source": [
    "### xgboost grid search for pca"
   ]
  },
  {
   "cell_type": "code",
   "execution_count": 143,
   "metadata": {
    "ExecuteTime": {
     "end_time": "2018-11-23T17:12:47.728490Z",
     "start_time": "2018-11-23T17:10:49.194374Z"
    }
   },
   "outputs": [
    {
     "name": "stderr",
     "output_type": "stream",
     "text": [
      "C:\\ProgramData\\Anaconda3\\lib\\site-packages\\sklearn\\model_selection\\_split.py:1943: FutureWarning: You should specify a value for 'cv' instead of relying on the default value. The default value will change from 3 to 5 in version 0.22.\n",
      "  warnings.warn(CV_WARNING, FutureWarning)\n"
     ]
    },
    {
     "name": "stdout",
     "output_type": "stream",
     "text": [
      "0.9213248259763223\n"
     ]
    }
   ],
   "source": [
    "params = {'gpu_id':[0],\n",
    "          'tree_method':['gpu_exact'],\n",
    "          'n_estimators':[10,30,50,100,300,500,1000],\n",
    "          'learning_rate':[0.001,0.01,0.03, 0.05],\n",
    "          'max_depth':[2,3,4]\n",
    "         }\n",
    "\n",
    "\n",
    "# Initialize XGB and GridSearch\n",
    "xgb = XGBRegressor(nthread=-1) \n",
    "\n",
    "grid = GridSearchCV(xgb, params, scoring = 'neg_mean_absolute_error')\n",
    "grid.fit(X_train_pca, y_train)\n",
    "\n",
    "# Print the mae score\n",
    "print(mae(y_train, grid.best_estimator_.predict(X_train_pca))) "
   ]
  },
  {
   "cell_type": "code",
   "execution_count": 144,
   "metadata": {
    "ExecuteTime": {
     "end_time": "2018-11-23T17:14:50.151372Z",
     "start_time": "2018-11-23T17:14:50.146870Z"
    }
   },
   "outputs": [
    {
     "data": {
      "text/plain": [
       "XGBRegressor(base_score=0.5, booster='gbtree', colsample_bylevel=1,\n",
       "       colsample_bytree=1, gamma=0, gpu_id=0, importance_type='gain',\n",
       "       learning_rate=0.03, max_delta_step=0, max_depth=2,\n",
       "       min_child_weight=1, missing=None, n_estimators=300, n_jobs=1,\n",
       "       nthread=-1, objective='reg:linear', random_state=0, reg_alpha=0,\n",
       "       reg_lambda=1, scale_pos_weight=1, seed=None, silent=True,\n",
       "       subsample=1, tree_method='gpu_exact')"
      ]
     },
     "execution_count": 144,
     "metadata": {},
     "output_type": "execute_result"
    }
   ],
   "source": [
    "grid.best_estimator_"
   ]
  },
  {
   "cell_type": "markdown",
   "metadata": {},
   "source": [
    "### Cross Validation"
   ]
  },
  {
   "cell_type": "code",
   "execution_count": 145,
   "metadata": {
    "ExecuteTime": {
     "end_time": "2018-11-23T17:16:34.138132Z",
     "start_time": "2018-11-23T17:16:08.467134Z"
    }
   },
   "outputs": [
    {
     "name": "stdout",
     "output_type": "stream",
     "text": [
      "[-0.98708875 -0.93387311 -1.03079071 -0.91515681 -0.90118517 -0.97960081\n",
      " -0.94838646 -0.9867585  -0.94874606 -0.98640219]\n",
      "-0.9617988573720281\n"
     ]
    }
   ],
   "source": [
    "xgr_cv = XGBRegressor(learning_rate=0.03, n_estimators=300, max_depth=2)\n",
    "# xgr_cv = XGBRegressor()\n",
    "\n",
    "\n",
    "scores = cross_val_score(xgr_cv, X_train_pca, y_train, cv=10, scoring = 'neg_mean_absolute_error')\n",
    "\n",
    "print(scores)\n",
    "print(np.mean(scores))"
   ]
  },
  {
   "cell_type": "markdown",
   "metadata": {},
   "source": [
    "# PLS"
   ]
  },
  {
   "cell_type": "code",
   "execution_count": 32,
   "metadata": {
    "ExecuteTime": {
     "end_time": "2018-11-19T19:47:14.441285Z",
     "start_time": "2018-11-19T19:47:14.245697Z"
    }
   },
   "outputs": [
    {
     "name": "stdout",
     "output_type": "stream",
     "text": [
      "PLS R2: 0.0195066723727223\n"
     ]
    }
   ],
   "source": [
    "pls = PLSRegression(n_components=5)\n",
    "pls.fit(X_train, y_train)\n",
    "\n",
    "y_pred = pls.predict(X_train)\n",
    "print('PLS R2:',r2_score(y_train, y_pred)) "
   ]
  },
  {
   "cell_type": "markdown",
   "metadata": {},
   "source": [
    "## Grid Search"
   ]
  },
  {
   "cell_type": "code",
   "execution_count": 11,
   "metadata": {
    "ExecuteTime": {
     "end_time": "2018-11-21T18:07:21.070733Z",
     "start_time": "2018-11-21T18:07:19.574265Z"
    }
   },
   "outputs": [
    {
     "name": "stderr",
     "output_type": "stream",
     "text": [
      "C:\\ProgramData\\Anaconda3\\lib\\site-packages\\sklearn\\model_selection\\_split.py:1943: FutureWarning: You should specify a value for 'cv' instead of relying on the default value. The default value will change from 3 to 5 in version 0.22.\n",
      "  warnings.warn(CV_WARNING, FutureWarning)\n"
     ]
    },
    {
     "name": "stdout",
     "output_type": "stream",
     "text": [
      "5.775732726206678\n"
     ]
    }
   ],
   "source": [
    "params_pls = {'n_components':[1,2,3,4,5],\n",
    "              'max_iter':[500,800,1000]\n",
    "             }\n",
    "\n",
    "\n",
    "# Initialize XGB and GridSearch\n",
    "pls = PLSRegression()\n",
    "\n",
    "grid = GridSearchCV(pls, params_pls, scoring= 'neg_mean_absolute_error')\n",
    "grid.fit(X_train_std, y_train)\n",
    "\n",
    "# Print the best mae\n",
    "print(mae(y_train, grid.best_estimator_.predict(X_train))) "
   ]
  },
  {
   "cell_type": "code",
   "execution_count": 12,
   "metadata": {
    "ExecuteTime": {
     "end_time": "2018-11-21T18:07:22.581052Z",
     "start_time": "2018-11-21T18:07:22.578054Z"
    }
   },
   "outputs": [
    {
     "data": {
      "text/plain": [
       "PLSRegression(copy=True, max_iter=500, n_components=1, scale=True, tol=1e-06)"
      ]
     },
     "execution_count": 12,
     "metadata": {},
     "output_type": "execute_result"
    }
   ],
   "source": [
    "grid.best_estimator_"
   ]
  },
  {
   "cell_type": "markdown",
   "metadata": {},
   "source": [
    "## Cross Validation"
   ]
  },
  {
   "cell_type": "code",
   "execution_count": 118,
   "metadata": {
    "ExecuteTime": {
     "end_time": "2018-11-23T16:21:45.772196Z",
     "start_time": "2018-11-23T16:21:44.346697Z"
    }
   },
   "outputs": [
    {
     "name": "stdout",
     "output_type": "stream",
     "text": [
      "[-0.9930708  -0.95426301 -1.02642473 -0.92507169 -0.92384595 -0.97615114\n",
      " -0.96027011 -1.00234931 -0.96281832 -1.00815583]\n",
      "-0.97324208940859\n"
     ]
    }
   ],
   "source": [
    "pls = PLSRegression(n_components=30)\n",
    "# xgr_cv = XGBRegressor()\n",
    "\n",
    "\n",
    "scores = cross_val_score(pls, X_train_std, y_train, cv=10, scoring = 'neg_mean_absolute_error')\n",
    "\n",
    "print(scores)\n",
    "print(np.mean(scores))"
   ]
  },
  {
   "cell_type": "markdown",
   "metadata": {},
   "source": [
    "# NN"
   ]
  },
  {
   "cell_type": "code",
   "execution_count": 78,
   "metadata": {
    "ExecuteTime": {
     "end_time": "2018-11-21T21:01:59.749146Z",
     "start_time": "2018-11-21T21:01:59.745145Z"
    }
   },
   "outputs": [],
   "source": [
    "import keras\n",
    "from keras.layers import Dense\n",
    "from keras.models import Sequential\n",
    "from keras.wrappers.scikit_learn import KerasRegressor\n",
    "from sklearn.model_selection import KFold\n",
    "from sklearn.preprocessing import StandardScaler\n",
    "from sklearn.pipeline import Pipeline"
   ]
  },
  {
   "cell_type": "code",
   "execution_count": 79,
   "metadata": {
    "ExecuteTime": {
     "end_time": "2018-11-21T21:02:00.369581Z",
     "start_time": "2018-11-21T21:02:00.365581Z"
    }
   },
   "outputs": [],
   "source": [
    "# define base model\n",
    "def baseline_model():\n",
    "    # create model\n",
    "    model = Sequential()\n",
    "    # a lot of layers!\n",
    "    model.add(Dense(100, kernel_initializer='normal', activation='relu', input_shape=(n_cols,)))\n",
    "    model.add(Dense(64, kernel_initializer='normal', activation='relu'))\n",
    "    model.add(Dense(32, kernel_initializer='normal', activation='relu'))\n",
    "    model.add(Dense(12, kernel_initializer='normal', activation='relu'))\n",
    "    model.add(Dense(1, kernel_initializer='normal'))\n",
    "    # Compile model\n",
    "    model.compile(loss='mean_absolute_error', optimizer='adam')\n",
    "    return model"
   ]
  },
  {
   "cell_type": "markdown",
   "metadata": {},
   "source": [
    "## initialize parameter"
   ]
  },
  {
   "cell_type": "code",
   "execution_count": 80,
   "metadata": {
    "ExecuteTime": {
     "end_time": "2018-11-21T21:02:10.658531Z",
     "start_time": "2018-11-21T21:02:10.654497Z"
    }
   },
   "outputs": [],
   "source": [
    "# Save the number of columns in predictors: n_cols\n",
    "n_cols = X_train.shape[1]\n",
    "# fix random seed for reproducibility\n",
    "seed = 42\n",
    "np.random.seed(seed)\n",
    "# evaluate model with standardized dataset\n",
    "estimator = KerasRegressor(build_fn=baseline_model, epochs=100, batch_size=1, verbose=0)"
   ]
  },
  {
   "cell_type": "code",
   "execution_count": 81,
   "metadata": {
    "ExecuteTime": {
     "end_time": "2018-11-21T21:34:44.353918Z",
     "start_time": "2018-11-21T21:02:12.610445Z"
    }
   },
   "outputs": [
    {
     "name": "stdout",
     "output_type": "stream",
     "text": [
      "[-1.24114492 -1.25556623 -1.25658758 -1.23670581 -1.15790705 -1.19048756\n",
      " -1.20610686 -1.26077091 -1.22591439 -1.20155494]\n",
      "Results: -1.22 (0.03) MSE\n"
     ]
    }
   ],
   "source": [
    "kfold = KFold(n_splits=10, random_state=seed)\n",
    "results = cross_val_score(estimator, X_train_std, y_train, cv=kfold)\n",
    "print(results)\n",
    "print(\"Results: %.2f (%.2f) MSE\" % (results.mean(), results.std()))"
   ]
  },
  {
   "cell_type": "code",
   "execution_count": 99,
   "metadata": {
    "ExecuteTime": {
     "end_time": "2018-11-22T18:57:20.816283Z",
     "start_time": "2018-11-22T16:48:39.884395Z"
    }
   },
   "outputs": [
    {
     "name": "stdout",
     "output_type": "stream",
     "text": [
      "Loss function: mean_absolute_error\n"
     ]
    },
    {
     "data": {
      "text/plain": [
       "<keras.callbacks.History at 0x251e0c766d8>"
      ]
     },
     "execution_count": 99,
     "metadata": {},
     "output_type": "execute_result"
    }
   ],
   "source": [
    "# Set up the model: model\n",
    "model = Sequential()\n",
    "\n",
    "# Add layer\n",
    "model.add(Dense(100,kernel_initializer='normal', activation='relu', input_shape=(n_cols,)))\n",
    "model.add(Dense(64,kernel_initializer='normal', activation='relu'))\n",
    "model.add(Dense(32,kernel_initializer='normal', activation='relu'))\n",
    "model.add(Dense(12,kernel_initializer='normal', activation='relu'))\n",
    "# Add the output layer\n",
    "model.add(Dense(1,kernel_initializer='normal'))\n",
    "\n",
    "# Compile the model\n",
    "model.compile(optimizer='adam',loss='mean_absolute_error')\n",
    "# Verify that model contains information from compiling\n",
    "print(\"Loss function: \" + model.loss)\n",
    "# Fit the model\n",
    "# model.fit(X_train_std,y_train, epochs=100, verbose=False, batch_size=1)\n",
    "\n",
    "# train with hold out validation method\n",
    "model.fit(X_t,y_t, epochs=500, verbose=False, batch_size=1)"
   ]
  },
  {
   "cell_type": "code",
   "execution_count": 100,
   "metadata": {
    "ExecuteTime": {
     "end_time": "2018-11-22T18:57:21.368795Z",
     "start_time": "2018-11-22T18:57:20.873785Z"
    }
   },
   "outputs": [
    {
     "name": "stdout",
     "output_type": "stream",
     "text": [
      "Training MAE: 0.38132591308649705\n"
     ]
    }
   ],
   "source": [
    "print('Training MAE:',mae(y_t, model.predict(X_t)))"
   ]
  },
  {
   "cell_type": "code",
   "execution_count": 101,
   "metadata": {
    "ExecuteTime": {
     "end_time": "2018-11-22T18:57:21.518313Z",
     "start_time": "2018-11-22T18:57:21.424287Z"
    },
    "scrolled": true
   },
   "outputs": [
    {
     "name": "stdout",
     "output_type": "stream",
     "text": [
      "Validation MAE: 1.120837666284605\n"
     ]
    }
   ],
   "source": [
    "print('Validation MAE:',mae(y_v, model.predict(X_v)))"
   ]
  },
  {
   "cell_type": "code",
   "execution_count": 102,
   "metadata": {
    "ExecuteTime": {
     "end_time": "2018-11-22T18:57:21.831786Z",
     "start_time": "2018-11-22T18:57:21.572783Z"
    },
    "scrolled": true
   },
   "outputs": [
    {
     "name": "stdout",
     "output_type": "stream",
     "text": [
      "Overall MAE: 0.625423020913778\n"
     ]
    }
   ],
   "source": [
    "print('Overall MAE:',mae(y_train, model.predict(X_train_std)))"
   ]
  },
  {
   "cell_type": "code",
   "execution_count": 97,
   "metadata": {
    "ExecuteTime": {
     "end_time": "2018-11-22T15:46:09.868516Z",
     "start_time": "2018-11-22T15:46:09.780491Z"
    }
   },
   "outputs": [
    {
     "data": {
      "text/plain": [
       "(array([2.000e+00, 6.000e+00, 3.300e+01, 3.060e+02, 2.806e+03, 1.013e+03,\n",
       "        7.900e+01, 6.000e+00, 2.000e+00, 1.000e+00]),\n",
       " array([ 8.479981 , 10.9169827, 13.3539844, 15.7909861, 18.2279878,\n",
       "        20.6649895, 23.1019912, 25.5389929, 27.9759946, 30.4129963,\n",
       "        32.849998 ]),\n",
       " <a list of 10 Patch objects>)"
      ]
     },
     "execution_count": 97,
     "metadata": {},
     "output_type": "execute_result"
    },
    {
     "data": {
      "image/png": "[encoded data removed]",
      "text/plain": [
       "<Figure size 432x288 with 1 Axes>"
      ]
     },
     "metadata": {},
     "output_type": "display_data"
    }
   ],
   "source": [
    "plt.hist(y_t)"
   ]
  },
  {
   "cell_type": "code",
   "execution_count": 98,
   "metadata": {
    "ExecuteTime": {
     "end_time": "2018-11-22T15:46:10.028487Z",
     "start_time": "2018-11-22T15:46:09.924991Z"
    }
   },
   "outputs": [
    {
     "data": {
      "text/plain": [
       "(array([   2.,    3.,    4.,   18.,   90.,  376., 1214.,  310.,   62.,\n",
       "          17.]),\n",
       " array([10.17     , 11.7040002, 13.2380004, 14.7720006, 16.3060008,\n",
       "        17.840001 , 19.3740012, 20.9080014, 22.4420016, 23.9760018,\n",
       "        25.510002 ]),\n",
       " <a list of 10 Patch objects>)"
      ]
     },
     "execution_count": 98,
     "metadata": {},
     "output_type": "execute_result"
    },
    {
     "data": {
      "image/png": "[encoded data removed]",
      "text/plain": [
       "<Figure size 432x288 with 1 Axes>"
      ]
     },
     "metadata": {},
     "output_type": "display_data"
    }
   ],
   "source": [
    "plt.hist(y_v)"
   ]
  },
  {
   "cell_type": "code",
   "execution_count": 59,
   "metadata": {
    "ExecuteTime": {
     "end_time": "2018-11-21T20:38:52.011780Z",
     "start_time": "2018-11-21T20:38:51.941309Z"
    }
   },
   "outputs": [],
   "source": [
    "# # Set up the model: model\n",
    "# model = Sequential()\n",
    "\n",
    "# # Add layer\n",
    "# model.add(Dense(100, activation='relu', input_shape=(n_cols,)))\n",
    "# model.add(Dense(80, activation='relu'))\n",
    "# model.add(Dense(50, activation='relu'))\n",
    "# model.add(Dense(32, activation='relu'))\n",
    "# model.add(Dense(24, activation='relu'))\n",
    "# model.add(Dense(12, activation='relu'))\n",
    "# # Add the output layer\n",
    "# model.add(Dense(1))\n",
    "\n",
    "# # Compile the model\n",
    "# model.compile(optimizer='adam',loss='mean_absolute_error')\n",
    "# # Verify that model contains information from compiling\n",
    "# print(\"Loss function: \" + model.loss)\n",
    "# # Fit the model\n",
    "# model.fit(X_train_std,y_train, epochs=150, verbose=False, batch_size=10)"
   ]
  },
  {
   "cell_type": "markdown",
   "metadata": {},
   "source": [
    "# playground"
   ]
  },
  {
   "cell_type": "code",
   "execution_count": 56,
   "metadata": {
    "ExecuteTime": {
     "end_time": "2018-11-19T03:12:33.329897Z",
     "start_time": "2018-11-19T03:12:33.317425Z"
    }
   },
   "outputs": [],
   "source": [
    "# X_1, X_2, y_1, y_2 = train_test_split(X_train, y_train, test_size=0.5,random_state=42)\n",
    "\n",
    "# y_p1 = grid.best_estimator_.predict(X_1)\n",
    "# r2_score(y_1,y_p1)\n",
    "\n",
    "# y_p2 = grid.best_estimator_.predict(X_2)\n",
    "# r2_score(y_2,y_p2)"
   ]
  }
 ],
 "metadata": {
  "kernelspec": {
   "display_name": "Python 3",
   "language": "python",
   "name": "python3"
  },
  "language_info": {
   "codemirror_mode": {
    "name": "ipython",
    "version": 3
   },
   "file_extension": ".py",
   "mimetype": "text/x-python",
   "name": "python",
   "nbconvert_exporter": "python",
   "pygments_lexer": "ipython3",
   "version": "3.6.6"
  },
  "toc": {
   "base_numbering": 1,
   "nav_menu": {},
   "number_sections": true,
   "sideBar": true,
   "skip_h1_title": false,
   "title_cell": "Table of Contents",
   "title_sidebar": "Contents",
   "toc_cell": false,
   "toc_position": {
    "height": "calc(100% - 180px)",
    "left": "10px",
    "top": "150px",
    "width": "384px"
   },
   "toc_section_display": true,
   "toc_window_display": true
  },
  "varInspector": {
   "cols": {
    "lenName": 16,
    "lenType": 16,
    "lenVar": 40
   },
   "kernels_config": {
    "python": {
     "delete_cmd_postfix": "",
     "delete_cmd_prefix": "del ",
     "library": "var_list.py",
     "varRefreshCmd": "print(var_dic_list())"
    },
    "r": {
     "delete_cmd_postfix": ") ",
     "delete_cmd_prefix": "rm(",
     "library": "var_list.r",
     "varRefreshCmd": "cat(var_dic_list()) "
    }
   },
   "oldHeight": 271.25,
   "position": {
    "height": "40px",
    "left": "1488.95px",
    "right": "73.3424px",
    "top": "0.96875px",
    "width": "361.969px"
   },
   "types_to_exclude": [
    "module",
    "function",
    "builtin_function_or_method",
    "instance",
    "_Feature"
   ],
   "varInspector_section_display": "none",
   "window_display": true
  }
 },
 "nbformat": 4,
 "nbformat_minor": 2
}
