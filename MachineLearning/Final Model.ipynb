{
 "cells": [
  {
   "cell_type": "markdown",
   "metadata": {},
   "source": [
    "# Import needed packages"
   ]
  },
  {
   "cell_type": "code",
   "execution_count": 1,
   "metadata": {
    "ExecuteTime": {
     "end_time": "2018-11-25T00:08:52.191232Z",
     "start_time": "2018-11-25T00:08:46.565852Z"
    },
    "run_control": {
     "marked": false
    }
   },
   "outputs": [],
   "source": [
    "import pandas as pd\n",
    "import numpy as np\n",
    "from sklearn.neighbors.kde import KernelDensity\n",
    "from sklearn.model_selection import cross_validate, GridSearchCV, cross_val_score\n",
    "from sklearn.metrics import mean_absolute_error as mae\n",
    "from sklearn.preprocessing import StandardScaler,Normalizer\n",
    "from sklearn import svm\n",
    "from xgboost import XGBRegressor\n",
    "import matplotlib.pyplot as plt\n",
    "%matplotlib inline"
   ]
  },
  {
   "cell_type": "markdown",
   "metadata": {
    "ExecuteTime": {
     "end_time": "2018-11-06T23:38:56.656812Z",
     "start_time": "2018-11-06T23:38:56.653389Z"
    }
   },
   "source": [
    "# Data Preparation "
   ]
  },
  {
   "cell_type": "markdown",
   "metadata": {},
   "source": [
    "## dummy variable for categorical data"
   ]
  },
  {
   "cell_type": "code",
   "execution_count": 2,
   "metadata": {
    "ExecuteTime": {
     "end_time": "2018-11-25T00:08:55.762661Z",
     "start_time": "2018-11-25T00:08:55.551521Z"
    }
   },
   "outputs": [],
   "source": [
    "# read in and prepare X_train, y_train and X_test data\n",
    "X_train=pd.read_csv('MLProjectData.csv')\n",
    "X_test=pd.read_csv('testData.csv',index_col=0) # test data has index needed to remove\n",
    "\n",
    "# get test data\n",
    "y_train = X_train['target']\n",
    "X_train.drop('target',axis=1,inplace=True)\n",
    "\n",
    "# label to split the training and testing\n",
    "X_train['train']=True\n",
    "X_test['train']=False\n",
    "# get_dummies to encode categorical variables\n",
    "temp=pd.get_dummies(X_train.append(X_test,sort=False))\n",
    "X_train=temp[temp['train']==True].drop('train',axis=1)\n",
    "X_test=temp[temp['train']==False].drop('train',axis=1)"
   ]
  },
  {
   "cell_type": "markdown",
   "metadata": {},
   "source": [
    "## Standardize/Normalize\n",
    "for non tree models such as SVR"
   ]
  },
  {
   "cell_type": "code",
   "execution_count": 5,
   "metadata": {
    "ExecuteTime": {
     "end_time": "2018-11-25T00:11:02.171218Z",
     "start_time": "2018-11-25T00:11:01.957718Z"
    },
    "scrolled": false
   },
   "outputs": [
    {
     "name": "stderr",
     "output_type": "stream",
     "text": [
      "C:\\ProgramData\\Anaconda3\\lib\\site-packages\\sklearn\\preprocessing\\data.py:617: DataConversionWarning: Data with input dtype bool, uint8, int64, float64 were all converted to float64 by StandardScaler.\n",
      "  return self.partial_fit(X, y)\n",
      "C:\\ProgramData\\Anaconda3\\lib\\site-packages\\sklearn\\base.py:462: DataConversionWarning: Data with input dtype bool, uint8, int64, float64 were all converted to float64 by StandardScaler.\n",
      "  return self.fit(X, **fit_params).transform(X)\n"
     ]
    }
   ],
   "source": [
    "std = StandardScaler()\n",
    "X_train_std = std.fit_transform(X_train)\n",
    "\n",
    "norm = Normalizer()\n",
    "X_train_norm = norm.fit_transform(X_train)"
   ]
  },
  {
   "cell_type": "code",
   "execution_count": 29,
   "metadata": {
    "ExecuteTime": {
     "end_time": "2018-11-25T04:26:04.943804Z",
     "start_time": "2018-11-25T04:26:04.940272Z"
    }
   },
   "outputs": [],
   "source": [
    "# normalize test data to output the result\n",
    "X_test_norm = norm.transform(X_test)"
   ]
  },
  {
   "cell_type": "markdown",
   "metadata": {},
   "source": [
    "# Benchmark "
   ]
  },
  {
   "cell_type": "markdown",
   "metadata": {
    "ExecuteTime": {
     "end_time": "2018-11-21T03:09:32.876785Z",
     "start_time": "2018-11-21T03:09:32.853362Z"
    }
   },
   "source": [
    "## median and mean"
   ]
  },
  {
   "cell_type": "code",
   "execution_count": 96,
   "metadata": {
    "ExecuteTime": {
     "end_time": "2018-11-21T16:06:56.114951Z",
     "start_time": "2018-11-21T16:06:56.099423Z"
    }
   },
   "outputs": [
    {
     "data": {
      "text/plain": [
       "count    6350.000000\n",
       "mean       20.035933\n",
       "std         1.419549\n",
       "min         8.479981\n",
       "25%        19.453096\n",
       "50%        20.062500\n",
       "75%        20.680000\n",
       "max        32.849998\n",
       "Name: target, dtype: float64"
      ]
     },
     "execution_count": 96,
     "metadata": {},
     "output_type": "execute_result"
    }
   ],
   "source": [
    "y_train.describe()"
   ]
  },
  {
   "cell_type": "code",
   "execution_count": 117,
   "metadata": {
    "ExecuteTime": {
     "end_time": "2018-11-21T16:35:52.737340Z",
     "start_time": "2018-11-21T16:35:52.730312Z"
    }
   },
   "outputs": [
    {
     "name": "stdout",
     "output_type": "stream",
     "text": [
      "Benchmark\n",
      "Mean:\n",
      "R2: 1.1102230246251565e-16\n",
      "MAE: 0.9567985025831722\n",
      "Median:\n",
      "R2: -0.0003503183503301699\n",
      "MAE: 0.9563565006299212\n"
     ]
    }
   ],
   "source": [
    "y_mean=np.repeat(y_train.mean(), len(y_train))\n",
    "y_median=np.repeat(y_train.median(), len(y_train))\n",
    "print('Benchmark\\nMean:\\nR2:',r2_score(y_train, y_mean)) \n",
    "print('MAE:',mae(y_train, y_mean)) \n",
    "print('Median:\\nR2:',r2_score(y_train, y_median)) \n",
    "print('MAE:',mae(y_train, y_median)) "
   ]
  },
  {
   "cell_type": "markdown",
   "metadata": {},
   "source": [
    "## kernel density"
   ]
  },
  {
   "cell_type": "code",
   "execution_count": 91,
   "metadata": {
    "ExecuteTime": {
     "end_time": "2018-11-21T16:05:15.126868Z",
     "start_time": "2018-11-21T16:05:13.174835Z"
    },
    "scrolled": true
   },
   "outputs": [
    {
     "name": "stdout",
     "output_type": "stream",
     "text": [
      "MAE: 1.4492191158844947\n"
     ]
    }
   ],
   "source": [
    "y_train_array = y_train.values[:,np.newaxis]\n",
    "\n",
    "kde = KernelDensity(kernel='gaussian', bandwidth=0.2).fit(y_train_array)\n",
    "kde.score_samples(y_train_array)\n",
    "\n",
    "print('MAE:',mae(y_train_array,kde.sample(len(y_train_array)))) "
   ]
  },
  {
   "cell_type": "code",
   "execution_count": 94,
   "metadata": {
    "ExecuteTime": {
     "end_time": "2018-11-21T16:06:21.812679Z",
     "start_time": "2018-11-21T16:06:21.551180Z"
    },
    "scrolled": false
   },
   "outputs": [
    {
     "data": {
      "image/png": "[encoded data removed]",
      "text/plain": [
       "<Figure size 432x288 with 1 Axes>"
      ]
     },
     "metadata": {},
     "output_type": "display_data"
    }
   ],
   "source": [
    "# Visualize the target\n",
    "plt.hist(y_train,bins=100,density=0.5);\n",
    "# y_train.quantile(q=0.05)\n",
    "# y_train.quantile(q=0.95)\n",
    "plt.hist(kde.sample(len(y_train_array)),bins=100,density=0.5);"
   ]
  },
  {
   "cell_type": "markdown",
   "metadata": {},
   "source": [
    "# SVR"
   ]
  },
  {
   "cell_type": "markdown",
   "metadata": {},
   "source": [
    "## Grid Search"
   ]
  },
  {
   "cell_type": "code",
   "execution_count": 37,
   "metadata": {
    "ExecuteTime": {
     "end_time": "2018-11-25T20:42:30.514124Z",
     "start_time": "2018-11-25T19:10:21.918173Z"
    }
   },
   "outputs": [
    {
     "name": "stdout",
     "output_type": "stream",
     "text": [
      "Training MAE: 0.9563635396782749\n"
     ]
    }
   ],
   "source": [
    "# Dont run takes 90+ minutes\n",
    "\n",
    "svr_grid = svm.SVR()\n",
    "\n",
    "params_svr = {'C': [0.0001,0.001,0.005,0.1,0.3,0.5,1,3,5], \n",
    "              'gamma': [5,4,3,2,1.5,1,0.9,0.8,0.5],\n",
    "              'kernel': ['rbf']}\n",
    "\n",
    "grid_svr = GridSearchCV(svr_grid, params_svr,cv=10)\n",
    "grid_svr.fit(X_train_norm, y_train)\n",
    "\n",
    "# Print the MAE score\n",
    "# print('Training MAE:', mae(y_train, grid_svr.best_estimator_.predict(X_train_norm)))"
   ]
  },
  {
   "cell_type": "markdown",
   "metadata": {
    "ExecuteTime": {
     "end_time": "2018-11-25T01:10:40.399050Z",
     "start_time": "2018-11-25T01:10:40.393548Z"
    }
   },
   "source": [
    "## Gridsearch results (candidates)\n",
    "\n",
    "SVR(C=1, cache_size=200, coef0=0.0, degree=3, epsilon=0.1, gamma=0.5,\n",
    "kernel='rbf', max_iter=-1, shrinking=True, tol=0.001, verbose=False)\n",
    "  \n",
    "SVR(C=0.1, cache_size=200, coef0=0.0, degree=3, epsilon=0.1, gamma=1,\n",
    "kernel='rbf', max_iter=-1, shrinking=True, tol=0.001, verbose=False)\n",
    "\n",
    "SVR(C=0.001, cache_size=200, coef0=0.0, degree=3, epsilon=0.1, gamma=5,\n",
    "kernel='rbf', max_iter=-1, shrinking=True, tol=0.001, verbose=False)"
   ]
  },
  {
   "cell_type": "markdown",
   "metadata": {},
   "source": [
    "## Cross Validation best model"
   ]
  },
  {
   "cell_type": "markdown",
   "metadata": {},
   "source": [
    "### Standardized Data"
   ]
  },
  {
   "cell_type": "code",
   "execution_count": 6,
   "metadata": {
    "ExecuteTime": {
     "end_time": "2018-11-25T00:12:31.221163Z",
     "start_time": "2018-11-25T00:11:37.177133Z"
    }
   },
   "outputs": [
    {
     "name": "stdout",
     "output_type": "stream",
     "text": [
      "[-0.98771723 -0.93132544 -1.00851058 -0.9137543  -0.89537944 -0.97483196\n",
      " -0.94677773 -0.99193567 -0.9394993  -0.97780779]\n",
      "-0.9567539434416366\n"
     ]
    }
   ],
   "source": [
    "svr_validate = svm.SVR(C=3,degree=3,gamma=0.9,kernel='rbf')\n",
    "\n",
    "scores = cross_val_score(svr_validate, X_train_std, y_train, cv=10, scoring = 'neg_mean_absolute_error')\n",
    "print(scores)\n",
    "print(np.mean(scores))"
   ]
  },
  {
   "cell_type": "markdown",
   "metadata": {},
   "source": [
    "### Normalized Data (works better)"
   ]
  },
  {
   "cell_type": "code",
   "execution_count": 154,
   "metadata": {
    "ExecuteTime": {
     "end_time": "2018-11-21T17:07:19.756462Z",
     "start_time": "2018-11-21T17:06:41.190433Z"
    }
   },
   "outputs": [
    {
     "name": "stdout",
     "output_type": "stream",
     "text": [
      "[-0.9908526  -0.93328811 -1.0075597  -0.91038571 -0.88694411 -0.97235694\n",
      " -0.94409592 -0.99034215 -0.94005804 -0.97752778]\n",
      "-0.9553411052541234\n"
     ]
    }
   ],
   "source": [
    "svr_validate = svm.SVR(C=3,degree=3,gamma=0.9,kernel='rbf')\n",
    "\n",
    "scores = cross_val_score(svr_validate, X_train_norm, y_train, cv=10, scoring = 'neg_mean_absolute_error')\n",
    "print(scores)\n",
    "print(np.mean(scores))"
   ]
  },
  {
   "cell_type": "markdown",
   "metadata": {},
   "source": [
    "### Output result"
   ]
  },
  {
   "cell_type": "code",
   "execution_count": 30,
   "metadata": {
    "ExecuteTime": {
     "end_time": "2018-11-25T04:26:53.075715Z",
     "start_time": "2018-11-25T04:26:53.028217Z"
    }
   },
   "outputs": [],
   "source": [
    "result = svr_final.predict(X_test_norm)"
   ]
  },
  {
   "cell_type": "code",
   "execution_count": 31,
   "metadata": {
    "ExecuteTime": {
     "end_time": "2018-11-25T04:26:58.709964Z",
     "start_time": "2018-11-25T04:26:58.592439Z"
    }
   },
   "outputs": [
    {
     "data": {
      "text/plain": [
       "(array([12., 31., 18.,  2.,  6.,  2.,  2.,  1.,  1.,  2.]),\n",
       " array([20.06090585, 20.06534632, 20.06978679, 20.07422726, 20.07866773,\n",
       "        20.0831082 , 20.08754867, 20.09198914, 20.09642961, 20.10087008,\n",
       "        20.10531055]),\n",
       " <a list of 10 Patch objects>)"
      ]
     },
     "execution_count": 31,
     "metadata": {},
     "output_type": "execute_result"
    },
    {
     "data": {
      "image/png": "[encoded data removed]",
      "text/plain": [
       "<Figure size 432x288 with 1 Axes>"
      ]
     },
     "metadata": {},
     "output_type": "display_data"
    }
   ],
   "source": [
    "plt.hist(result)"
   ]
  },
  {
   "cell_type": "code",
   "execution_count": 32,
   "metadata": {
    "ExecuteTime": {
     "end_time": "2018-11-25T04:27:11.683022Z",
     "start_time": "2018-11-25T04:27:11.679052Z"
    }
   },
   "outputs": [
    {
     "data": {
      "text/plain": [
       "77"
      ]
     },
     "execution_count": 32,
     "metadata": {},
     "output_type": "execute_result"
    }
   ],
   "source": [
    "len(result)"
   ]
  },
  {
   "cell_type": "code",
   "execution_count": 35,
   "metadata": {
    "ExecuteTime": {
     "end_time": "2018-11-25T04:28:41.137527Z",
     "start_time": "2018-11-25T04:28:41.134528Z"
    }
   },
   "outputs": [],
   "source": [
    "result.tofile('result.csv',sep='\\n')"
   ]
  },
  {
   "cell_type": "markdown",
   "metadata": {},
   "source": [
    "## PCA + SVR (unsuccessful try)"
   ]
  },
  {
   "cell_type": "code",
   "execution_count": 150,
   "metadata": {
    "ExecuteTime": {
     "end_time": "2018-11-23T17:47:33.876054Z",
     "start_time": "2018-11-23T17:37:54.296551Z"
    }
   },
   "outputs": [
    {
     "name": "stdout",
     "output_type": "stream",
     "text": [
      "Training MAE: 0.11878177387367138\n"
     ]
    }
   ],
   "source": [
    "svr_grid = svm.SVR()\n",
    "\n",
    "params_svr = {'C': [3,4,5,6,7,8], \n",
    "              'gamma': [5,4,3,2,1,0.5],\n",
    "              'kernel': ['rbf']}\n",
    "\n",
    "grid_svr = GridSearchCV(svr_grid, params_svr,cv=5)\n",
    "grid_svr.fit(X_train_pca, y_train)"
   ]
  },
  {
   "cell_type": "code",
   "execution_count": 152,
   "metadata": {
    "ExecuteTime": {
     "end_time": "2018-11-23T18:24:33.087359Z",
     "start_time": "2018-11-23T18:24:08.719318Z"
    }
   },
   "outputs": [
    {
     "name": "stdout",
     "output_type": "stream",
     "text": [
      "[-0.9878083  -0.93158894 -1.00834542 -0.9140054  -0.89540323 -0.97501114\n",
      " -0.94688645 -0.99214737 -0.93950996 -0.9777393 ]\n",
      "-0.9568445504223\n"
     ]
    }
   ],
   "source": [
    "# Cross Validation\n",
    "svr_validate = svm.SVR(C=4,degree=3,gamma=4,kernel='rbf')\n",
    "# svr_validate = svm.SVR(gamma='auto')\n",
    "\n",
    "scores = cross_val_score(svr_validate, X_train_pca, y_train, cv=10, scoring = 'neg_mean_absolute_error')\n",
    "print(scores)\n",
    "print(np.mean(scores))"
   ]
  }
 ],
 "metadata": {
  "kernelspec": {
   "display_name": "Python 3",
   "language": "python",
   "name": "python3"
  },
  "language_info": {
   "codemirror_mode": {
    "name": "ipython",
    "version": 3
   },
   "file_extension": ".py",
   "mimetype": "text/x-python",
   "name": "python",
   "nbconvert_exporter": "python",
   "pygments_lexer": "ipython3",
   "version": "3.6.6"
  },
  "toc": {
   "base_numbering": 1,
   "nav_menu": {},
   "number_sections": true,
   "sideBar": true,
   "skip_h1_title": false,
   "title_cell": "Table of Contents",
   "title_sidebar": "Contents",
   "toc_cell": false,
   "toc_position": {
    "height": "calc(100% - 180px)",
    "left": "10px",
    "top": "150px",
    "width": "384px"
   },
   "toc_section_display": true,
   "toc_window_display": true
  },
  "varInspector": {
   "cols": {
    "lenName": 16,
    "lenType": 16,
    "lenVar": 40
   },
   "kernels_config": {
    "python": {
     "delete_cmd_postfix": "",
     "delete_cmd_prefix": "del ",
     "library": "var_list.py",
     "varRefreshCmd": "print(var_dic_list())"
    },
    "r": {
     "delete_cmd_postfix": ") ",
     "delete_cmd_prefix": "rm(",
     "library": "var_list.r",
     "varRefreshCmd": "cat(var_dic_list()) "
    }
   },
   "oldHeight": 271.25,
   "position": {
    "height": "40px",
    "left": "1488.95px",
    "right": "73.3424px",
    "top": "0.96875px",
    "width": "361.969px"
   },
   "types_to_exclude": [
    "module",
    "function",
    "builtin_function_or_method",
    "instance",
    "_Feature"
   ],
   "varInspector_section_display": "none",
   "window_display": true
  }
 },
 "nbformat": 4,
 "nbformat_minor": 2
}
