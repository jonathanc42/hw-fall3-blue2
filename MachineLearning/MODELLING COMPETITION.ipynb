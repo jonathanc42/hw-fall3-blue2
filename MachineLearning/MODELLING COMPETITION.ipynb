{
 "cells": [
  {
   "cell_type": "markdown",
   "metadata": {},
   "source": [
    "# import needed packages"
   ]
  },
  {
   "cell_type": "code",
   "execution_count": 55,
   "metadata": {
    "ExecuteTime": {
     "end_time": "2018-11-19T03:10:09.647698Z",
     "start_time": "2018-11-19T03:10:09.627724Z"
    },
    "run_control": {
     "marked": false
    }
   },
   "outputs": [],
   "source": [
    "import pandas as pd\n",
    "import numpy as np\n",
    "from sklearn.ensemble import GradientBoostingClassifier\n",
    "from sklearn.metrics import confusion_matrix\n",
    "from sklearn.model_selection import train_test_split\n",
    "from sklearn.preprocessing import LabelBinarizer, LabelEncoder, OneHotEncoder\n",
    "from sklearn.metrics import mean_absolute_error\n",
    "#from sklearn.pipeline import make_pipeline\n",
    "\n",
    "# from sklearn.cross_validation import *\n",
    "from sklearn.model_selection import GridSearchCV\n",
    "from xgboost import XGBRegressor\n",
    "\n",
    "from sklearn.model_selection import train_test_split\n",
    "\n",
    "import matplotlib.pyplot as plt\n",
    "%matplotlib inline"
   ]
  },
  {
   "cell_type": "markdown",
   "metadata": {
    "ExecuteTime": {
     "end_time": "2018-11-06T23:38:56.656812Z",
     "start_time": "2018-11-06T23:38:56.653389Z"
    }
   },
   "source": [
    "# read in data and seperate to train and test"
   ]
  },
  {
   "cell_type": "code",
   "execution_count": 2,
   "metadata": {
    "ExecuteTime": {
     "end_time": "2018-11-18T19:56:20.839457Z",
     "start_time": "2018-11-18T19:56:20.729307Z"
    }
   },
   "outputs": [],
   "source": [
    "# read in and prepare X_train, y_train and X_test data\n",
    "X_train=pd.read_csv('MLProjectData.csv')\n",
    "X_test=pd.read_csv('testData.csv',index_col=0)\n",
    "\n",
    "y_train = X_train['target']\n",
    "X_train.drop('target',axis=1,inplace=True)"
   ]
  },
  {
   "cell_type": "code",
   "execution_count": 3,
   "metadata": {
    "ExecuteTime": {
     "end_time": "2018-11-18T19:56:21.544595Z",
     "start_time": "2018-11-18T19:56:21.541570Z"
    }
   },
   "outputs": [],
   "source": [
    "# label to split the training and testing\n",
    "X_train['train']=True\n",
    "X_test['train']=False"
   ]
  },
  {
   "cell_type": "code",
   "execution_count": 4,
   "metadata": {
    "ExecuteTime": {
     "end_time": "2018-11-18T19:56:22.257340Z",
     "start_time": "2018-11-18T19:56:22.218682Z"
    }
   },
   "outputs": [],
   "source": [
    "temp=pd.get_dummies(X_train.append(X_test,sort=False))\n",
    "X_train=temp[temp['train']==True].drop('train',axis=1)\n",
    "X_test=temp[temp['train']==False].drop('train',axis=1)"
   ]
  },
  {
   "cell_type": "markdown",
   "metadata": {
    "heading_collapsed": true
   },
   "source": [
    "## get data information"
   ]
  },
  {
   "cell_type": "markdown",
   "metadata": {},
   "source": [
    "## train model"
   ]
  },
  {
   "cell_type": "code",
   "execution_count": 22,
   "metadata": {
    "ExecuteTime": {
     "end_time": "2018-11-18T20:07:11.287666Z",
     "start_time": "2018-11-18T20:07:11.284663Z"
    }
   },
   "outputs": [],
   "source": [
    "xgr = XGBRegressor()\n",
    "# Add silent=True to avoid printing out updates with each cycle\n",
    "# xgr.fit(X_train, y_train)"
   ]
  },
  {
   "cell_type": "code",
   "execution_count": 23,
   "metadata": {
    "ExecuteTime": {
     "end_time": "2018-11-18T20:07:14.292907Z",
     "start_time": "2018-11-18T20:07:14.290929Z"
    }
   },
   "outputs": [],
   "source": [
    "from sklearn.metrics import r2_score"
   ]
  },
  {
   "cell_type": "code",
   "execution_count": 42,
   "metadata": {
    "ExecuteTime": {
     "end_time": "2018-11-19T00:44:00.358085Z",
     "start_time": "2018-11-19T00:22:21.067291Z"
    }
   },
   "outputs": [
    {
     "name": "stderr",
     "output_type": "stream",
     "text": [
      "C:\\ProgramData\\Anaconda3\\lib\\site-packages\\sklearn\\model_selection\\_split.py:1943: FutureWarning: You should specify a value for 'cv' instead of relying on the default value. The default value will change from 3 to 5 in version 0.22.\n",
      "  warnings.warn(CV_WARNING, FutureWarning)\n"
     ]
    },
    {
     "name": "stdout",
     "output_type": "stream",
     "text": [
      "0.10545506348483091\n"
     ]
    }
   ],
   "source": [
    "# A parameter grid for XGBoost\n",
    "# params = {'min_child_weight':[4,5],\n",
    "#           'gamma':[i/10.0 for i in range(3,6)],\n",
    "#           'subsample':[i/10.0 for i in range(6,11)],\n",
    "#           'colsample_bytree':[i/10.0 for i in range(6,11)],\n",
    "#           'max_depth': [2,3,4],\n",
    "#           'gpu_id':[0],\n",
    "#           'max_bin':[16],\n",
    "#           'tree_method':['gpu_hist'],\n",
    "#          'cv':[3]}\n",
    "\n",
    "params = {'gpu_id':[0],\n",
    "          'tree_method':['gpu_exact'],\n",
    "          'n_estimators':[10,30,50,100,300,500,1000,2000,3000],\n",
    "          'learning_rate':[0.001,0.01,0.03, 0.05,0.08, 0.1,0.3,0.5,0.7],\n",
    "          'max_depth':[2,3,4]\n",
    "         }\n",
    "\n",
    "\n",
    "# Initialize XGB and GridSearch\n",
    "xgb = XGBRegressor(nthread=-1) \n",
    "\n",
    "grid = GridSearchCV(xgb, params)\n",
    "grid.fit(X_train, y_train)\n",
    "\n",
    "# Print the r2 score\n",
    "print(r2_score(y_train, grid.best_estimator_.predict(X_train))) \n",
    "\n",
    "# Save the file\n",
    "# y_test = grid.best_estimator_.predict(x_test)\n",
    "# results_df = pd.DataFrame(data={'y':y_test}) \n",
    "# ids = test_df[\"ID\"]\n",
    "# joined = pd.DataFrame(ids).join(results_df)\n",
    "# joined.to_csv(\"mercedes.csv\", index=False)"
   ]
  },
  {
   "cell_type": "code",
   "execution_count": 43,
   "metadata": {
    "ExecuteTime": {
     "end_time": "2018-11-19T00:48:32.807376Z",
     "start_time": "2018-11-19T00:48:32.750377Z"
    }
   },
   "outputs": [
    {
     "name": "stdout",
     "output_type": "stream",
     "text": [
      "0.10545506348483091\n"
     ]
    }
   ],
   "source": [
    "print(r2_score(y_train, grid.best_estimator_.predict(X_train))) "
   ]
  },
  {
   "cell_type": "code",
   "execution_count": 45,
   "metadata": {
    "ExecuteTime": {
     "end_time": "2018-11-19T00:49:34.494234Z",
     "start_time": "2018-11-19T00:49:34.490210Z"
    }
   },
   "outputs": [
    {
     "data": {
      "text/plain": [
       "XGBRegressor(base_score=0.5, booster='gbtree', colsample_bylevel=1,\n",
       "       colsample_bytree=1, gamma=0, gpu_id=0, importance_type='gain',\n",
       "       learning_rate=0.1, max_delta_step=0, max_depth=2,\n",
       "       min_child_weight=1, missing=None, n_estimators=50, n_jobs=1,\n",
       "       nthread=-1, objective='reg:linear', random_state=0, reg_alpha=0,\n",
       "       reg_lambda=1, scale_pos_weight=1, seed=None, silent=True,\n",
       "       subsample=1, tree_method='gpu_exact')"
      ]
     },
     "execution_count": 45,
     "metadata": {},
     "output_type": "execute_result"
    }
   ],
   "source": [
    "grid.best_estimator_"
   ]
  },
  {
   "cell_type": "markdown",
   "metadata": {},
   "source": [
    "Best Estimator 1\n",
    "\n",
    "r2_score: 0.10044651984945663\n",
    "\n",
    "XGBRegressor(base_score=0.5, booster='gbtree', colsample_bylevel=1,\n",
    "       colsample_bytree=1, cv=3, gamma=0, gpu_id=0, importance_type='gain',\n",
    "       learning_rate=0.05, max_bin=16, max_delta_step=0, max_depth=2,\n",
    "       min_child_weight=1, missing=None, n_estimators=100, n_jobs=1,\n",
    "       nthread=-1, objective='reg:linear', random_state=0, reg_alpha=0,\n",
    "       reg_lambda=1, scale_pos_weight=1, seed=None, silent=True,\n",
    "       subsample=1, tree_method='gpu_exact')\n",
    "       \n",
    "\n",
    "{'cv': 3,\n",
    " 'gpu_id': 0,\n",
    " 'learning_rate': 0.05,\n",
    " 'max_bin': 16,\n",
    " 'max_depth': 2,\n",
    " 'n_estimators': 100,\n",
    " 'tree_method': 'gpu_exact'}"
   ]
  },
  {
   "cell_type": "markdown",
   "metadata": {},
   "source": [
    "Best Estimator 2\n",
    "\n",
    "0.10545506348483091\n",
    "\n",
    "XGBRegressor(base_score=0.5, booster='gbtree', colsample_bylevel=1,\n",
    "       colsample_bytree=1, gamma=0, gpu_id=0, importance_type='gain',\n",
    "       learning_rate=0.1, max_delta_step=0, max_depth=2,\n",
    "       min_child_weight=1, missing=None, n_estimators=50, n_jobs=1,\n",
    "       nthread=-1, objective='reg:linear', random_state=0, reg_alpha=0,\n",
    "       reg_lambda=1, scale_pos_weight=1, seed=None, silent=True,\n",
    "       subsample=1, tree_method='gpu_exact')\n",
    "       \n",
    "       \n",
    "{'gpu_id': 0,\n",
    " 'learning_rate': 0.1,\n",
    " 'max_depth': 2,\n",
    " 'n_estimators': 50,\n",
    " 'tree_method': 'gpu_exact'}"
   ]
  },
  {
   "cell_type": "code",
   "execution_count": 46,
   "metadata": {
    "ExecuteTime": {
     "end_time": "2018-11-19T00:50:37.940077Z",
     "start_time": "2018-11-19T00:50:37.936080Z"
    }
   },
   "outputs": [
    {
     "data": {
      "text/plain": [
       "{'gpu_id': 0,\n",
       " 'learning_rate': 0.1,\n",
       " 'max_depth': 2,\n",
       " 'n_estimators': 50,\n",
       " 'tree_method': 'gpu_exact'}"
      ]
     },
     "execution_count": 46,
     "metadata": {},
     "output_type": "execute_result"
    }
   ],
   "source": [
    "grid.best_params_"
   ]
  },
  {
   "cell_type": "code",
   "execution_count": 35,
   "metadata": {
    "ExecuteTime": {
     "end_time": "2018-11-19T00:08:56.391629Z",
     "start_time": "2018-11-19T00:08:56.388130Z"
    }
   },
   "outputs": [
    {
     "data": {
      "text/plain": [
       "-0.015414561837484384"
      ]
     },
     "execution_count": 35,
     "metadata": {},
     "output_type": "execute_result"
    }
   ],
   "source": [
    "grid.best_score_"
   ]
  },
  {
   "cell_type": "code",
   "execution_count": 50,
   "metadata": {
    "ExecuteTime": {
     "end_time": "2018-11-19T00:51:36.961298Z",
     "start_time": "2018-11-19T00:51:36.910263Z"
    }
   },
   "outputs": [],
   "source": [
    "validate = grid.best_estimator_.predict(X_train)"
   ]
  },
  {
   "cell_type": "code",
   "execution_count": 51,
   "metadata": {
    "ExecuteTime": {
     "end_time": "2018-11-19T00:51:38.217982Z",
     "start_time": "2018-11-19T00:51:38.214011Z"
    }
   },
   "outputs": [
    {
     "name": "stdout",
     "output_type": "stream",
     "text": [
      "Mean Absolute Error : 0.9385677555952898\n"
     ]
    }
   ],
   "source": [
    "print(\"Mean Absolute Error : \" + str(mean_absolute_error(validate, y_train)))"
   ]
  },
  {
   "cell_type": "code",
   "execution_count": 54,
   "metadata": {
    "ExecuteTime": {
     "end_time": "2018-11-19T00:52:27.534593Z",
     "start_time": "2018-11-19T00:52:26.884336Z"
    }
   },
   "outputs": [
    {
     "data": {
      "image/png": "[encoded data removed]",
      "text/plain": [
       "<Figure size 432x288 with 1 Axes>"
      ]
     },
     "metadata": {},
     "output_type": "display_data"
    }
   ],
   "source": [
    "importances = grid.best_estimator_.feature_importances_\n",
    "indices = np.argsort(importances)[::-1]\n",
    "\n",
    "plt.bar(range(X_train.shape[1]), importances[indices],\n",
    "       color=\"r\", align=\"center\")\n",
    "plt.title(\"Feature importances\")\n",
    "#plt.bar(range(X.shape[1]), importances[indices],color=\"r\", yerr=std[indices], align=\"center\")\n",
    "plt.xticks(range(X_train.shape[1]), indices)\n",
    "plt.xlim([-1, X_train.shape[1]])\n",
    "plt.show()"
   ]
  },
  {
   "cell_type": "markdown",
   "metadata": {},
   "source": [
    "# subsetting for fun"
   ]
  },
  {
   "cell_type": "code",
   "execution_count": 56,
   "metadata": {
    "ExecuteTime": {
     "end_time": "2018-11-19T03:12:33.329897Z",
     "start_time": "2018-11-19T03:12:33.317425Z"
    }
   },
   "outputs": [],
   "source": [
    "X_1, X_2, y_1, y_2 = train_test_split(X_train, y_train, test_size=0.5,random_state=42)"
   ]
  },
  {
   "cell_type": "code",
   "execution_count": 58,
   "metadata": {
    "ExecuteTime": {
     "end_time": "2018-11-19T03:14:11.912657Z",
     "start_time": "2018-11-19T03:14:11.864627Z"
    }
   },
   "outputs": [
    {
     "data": {
      "text/plain": [
       "0.11690095728350869"
      ]
     },
     "execution_count": 58,
     "metadata": {},
     "output_type": "execute_result"
    }
   ],
   "source": [
    "y_p1 = grid.best_estimator_.predict(X_1)\n",
    "r2_score(y_1,y_p1)"
   ]
  },
  {
   "cell_type": "code",
   "execution_count": 61,
   "metadata": {
    "ExecuteTime": {
     "end_time": "2018-11-19T03:14:34.671816Z",
     "start_time": "2018-11-19T03:14:34.640315Z"
    }
   },
   "outputs": [
    {
     "data": {
      "text/plain": [
       "0.09231471172934202"
      ]
     },
     "execution_count": 61,
     "metadata": {},
     "output_type": "execute_result"
    }
   ],
   "source": [
    "y_p2 = grid.best_estimator_.predict(X_2)\n",
    "r2_score(y_2,y_p2)"
   ]
  }
 ],
 "metadata": {
  "kernelspec": {
   "display_name": "Python 3",
   "language": "python",
   "name": "python3"
  },
  "language_info": {
   "codemirror_mode": {
    "name": "ipython",
    "version": 3
   },
   "file_extension": ".py",
   "mimetype": "text/x-python",
   "name": "python",
   "nbconvert_exporter": "python",
   "pygments_lexer": "ipython3",
   "version": "3.6.6"
  },
  "toc": {
   "base_numbering": 1,
   "nav_menu": {},
   "number_sections": true,
   "sideBar": true,
   "skip_h1_title": false,
   "title_cell": "Table of Contents",
   "title_sidebar": "Contents",
   "toc_cell": false,
   "toc_position": {},
   "toc_section_display": true,
   "toc_window_display": true
  },
  "varInspector": {
   "cols": {
    "lenName": 16,
    "lenType": 16,
    "lenVar": 40
   },
   "kernels_config": {
    "python": {
     "delete_cmd_postfix": "",
     "delete_cmd_prefix": "del ",
     "library": "var_list.py",
     "varRefreshCmd": "print(var_dic_list())"
    },
    "r": {
     "delete_cmd_postfix": ") ",
     "delete_cmd_prefix": "rm(",
     "library": "var_list.r",
     "varRefreshCmd": "cat(var_dic_list()) "
    }
   },
   "oldHeight": 271.25,
   "position": {
    "height": "40px",
    "left": "1488.95px",
    "right": "73.3424px",
    "top": "0.96875px",
    "width": "361.969px"
   },
   "types_to_exclude": [
    "module",
    "function",
    "builtin_function_or_method",
    "instance",
    "_Feature"
   ],
   "varInspector_section_display": "none",
   "window_display": true
  }
 },
 "nbformat": 4,
 "nbformat_minor": 2
}
